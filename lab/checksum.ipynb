{
 "cells": [
  {
   "cell_type": "markdown",
   "metadata": {},
   "source": [
    "# checksum\n",
    "\n",
    "- [Best non-cryptographic hashing function in Python (size and speed)](https://www.peterbe.com/plog/best-hashing-function-in-python)\n",
    "- [Python hash function performance comparison](https://www.sami-lehtinen.net/blog/python-hash-function-performance-comparison)"
   ]
  },
  {
   "cell_type": "code",
   "execution_count": 1,
   "metadata": {},
   "outputs": [
    {
     "data": {
      "text/plain": [
       "\u001b[0;31mSignature:\u001b[0m \u001b[0mhash\u001b[0m\u001b[0;34m(\u001b[0m\u001b[0mobj\u001b[0m\u001b[0;34m,\u001b[0m \u001b[0;34m/\u001b[0m\u001b[0;34m)\u001b[0m\u001b[0;34m\u001b[0m\u001b[0;34m\u001b[0m\u001b[0m\n",
       "\u001b[0;31mDocstring:\u001b[0m\n",
       "Return the hash value for the given object.\n",
       "\n",
       "Two objects that compare equal must also have the same hash value, but the\n",
       "reverse is not necessarily true.\n",
       "\u001b[0;31mType:\u001b[0m      builtin_function_or_method\n"
      ]
     },
     "metadata": {},
     "output_type": "display_data"
    }
   ],
   "source": [
    "hash?"
   ]
  },
  {
   "cell_type": "code",
   "execution_count": 2,
   "metadata": {},
   "outputs": [],
   "source": [
    "import zlib\n",
    "import hashlib"
   ]
  },
  {
   "cell_type": "code",
   "execution_count": 3,
   "metadata": {},
   "outputs": [
    {
     "data": {
      "text/plain": [
       "\u001b[0;31mType:\u001b[0m        module\n",
       "\u001b[0;31mString form:\u001b[0m <module 'zlib' (built-in)>\n",
       "\u001b[0;31mDocstring:\u001b[0m  \n",
       "The functions in this module allow compression and decompression using the\n",
       "zlib library, which is based on GNU zip.\n",
       "\n",
       "adler32(string[, start]) -- Compute an Adler-32 checksum.\n",
       "compress(data[, level]) -- Compress data, with compression level 0-9 or -1.\n",
       "compressobj([level[, ...]]) -- Return a compressor object.\n",
       "crc32(string[, start]) -- Compute a CRC-32 checksum.\n",
       "decompress(string,[wbits],[bufsize]) -- Decompresses a compressed string.\n",
       "decompressobj([wbits[, zdict]]]) -- Return a decompressor object.\n",
       "\n",
       "'wbits' is window buffer size and container format.\n",
       "Compressor objects support compress() and flush() methods; decompressor\n",
       "objects support decompress() and flush().\n"
      ]
     },
     "metadata": {},
     "output_type": "display_data"
    }
   ],
   "source": [
    "zlib?"
   ]
  },
  {
   "cell_type": "code",
   "execution_count": 4,
   "metadata": {},
   "outputs": [
    {
     "data": {
      "text/plain": [
       "\u001b[0;31mType:\u001b[0m        module\n",
       "\u001b[0;31mString form:\u001b[0m <module 'hashlib' from '/usr/lib/python3.6/hashlib.py'>\n",
       "\u001b[0;31mFile:\u001b[0m        /usr/lib/python3.6/hashlib.py\n",
       "\u001b[0;31mDocstring:\u001b[0m  \n",
       "hashlib module - A common interface to many hash functions.\n",
       "\n",
       "new(name, data=b'', **kwargs) - returns a new hash object implementing the\n",
       "                                given hash function; initializing the hash\n",
       "                                using the given binary data.\n",
       "\n",
       "Named constructor functions are also available, these are faster\n",
       "than using new(name):\n",
       "\n",
       "md5(), sha1(), sha224(), sha256(), sha384(), sha512(), blake2b(), blake2s(),\n",
       "sha3_224, sha3_256, sha3_384, sha3_512, shake_128, and shake_256.\n",
       "\n",
       "More algorithms may be available on your platform but the above are guaranteed\n",
       "to exist.  See the algorithms_guaranteed and algorithms_available attributes\n",
       "to find out what algorithm names can be passed to new().\n",
       "\n",
       "NOTE: If you want the adler32 or crc32 hash functions they are available in\n",
       "the zlib module.\n",
       "\n",
       "Choose your hash function wisely.  Some have known collision weaknesses.\n",
       "sha384 and sha512 will be slow on 32 bit platforms.\n",
       "\n",
       "Hash objects have these methods:\n",
       " - update(data): Update the hash object with the bytes in data. Repeated calls\n",
       "                 are equivalent to a single call with the concatenation of all\n",
       "                 the arguments.\n",
       " - digest():     Return the digest of the bytes passed to the update() method\n",
       "                 so far as a bytes object.\n",
       " - hexdigest():  Like digest() except the digest is returned as a string\n",
       "                 of double length, containing only hexadecimal digits.\n",
       " - copy():       Return a copy (clone) of the hash object. This can be used to\n",
       "                 efficiently compute the digests of datas that share a common\n",
       "                 initial substring.\n",
       "\n",
       "For example, to obtain the digest of the byte string 'Nobody inspects the\n",
       "spammish repetition':\n",
       "\n",
       "    >>> import hashlib\n",
       "    >>> m = hashlib.md5()\n",
       "    >>> m.update(b\"Nobody inspects\")\n",
       "    >>> m.update(b\" the spammish repetition\")\n",
       "    >>> m.digest()\n",
       "    b'\\xbbd\\x9c\\x83\\xdd\\x1e\\xa5\\xc9\\xd9\\xde\\xc9\\xa1\\x8d\\xf0\\xff\\xe9'\n",
       "\n",
       "More condensed:\n",
       "\n",
       "    >>> hashlib.sha224(b\"Nobody inspects the spammish repetition\").hexdigest()\n",
       "    'a4337bc45a8fc544c03f52dc550cd6e1e87021bc896588bd79e901e2'\n"
      ]
     },
     "metadata": {},
     "output_type": "display_data"
    }
   ],
   "source": [
    "hashlib?"
   ]
  },
  {
   "cell_type": "code",
   "execution_count": 5,
   "metadata": {},
   "outputs": [],
   "source": [
    "class_content = \"\"\"class Reverse:\n",
    "    def __init__(self, data):\n",
    "        self.data = data\n",
    "        self.index = len(data)\n",
    "\n",
    "    def __iter__(self):\n",
    "        return self\n",
    "\n",
    "    def __next__(self):\n",
    "        if self.index == 0:\n",
    "            raise StopIteration\n",
    "        self.index = self.index - 1\n",
    "        return self.data[self.index]\"\"\""
   ]
  },
  {
   "cell_type": "code",
   "execution_count": 6,
   "metadata": {},
   "outputs": [],
   "source": [
    "modified_class_content = \"\"\"class Reverse:\n",
    "    def __init__(self, data):\n",
    "        self.data = data\n",
    "        self.index = len(data)\n",
    "\n",
    "    def __iter__(self):\n",
    "        return self\n",
    "\n",
    "    def __next__(self):\n",
    "        if self.index == 0:\n",
    "            raise StopIteration\n",
    "        self.index = self.index - 1\n",
    "        return self.data[self.index]\n",
    "    \n",
    "    def give_answer(self):\n",
    "        return 42\"\"\""
   ]
  },
  {
   "cell_type": "code",
   "execution_count": 7,
   "metadata": {},
   "outputs": [
    {
     "data": {
      "text/plain": [
       "-2857107804731711835"
      ]
     },
     "execution_count": 7,
     "metadata": {},
     "output_type": "execute_result"
    }
   ],
   "source": [
    "value = hash(class_content)\n",
    "value"
   ]
  },
  {
   "cell_type": "code",
   "execution_count": 8,
   "metadata": {},
   "outputs": [
    {
     "data": {
      "text/plain": [
       "-8308610249641217513"
      ]
     },
     "execution_count": 8,
     "metadata": {},
     "output_type": "execute_result"
    }
   ],
   "source": [
    "value = hash(modified_class_content)\n",
    "value"
   ]
  }
 ],
 "metadata": {
  "kernelspec": {
   "display_name": "Python 3",
   "language": "python",
   "name": "python3"
  },
  "language_info": {
   "codemirror_mode": {
    "name": "ipython",
    "version": 3
   },
   "file_extension": ".py",
   "mimetype": "text/x-python",
   "name": "python",
   "nbconvert_exporter": "python",
   "pygments_lexer": "ipython3",
   "version": "3.6.7"
  }
 },
 "nbformat": 4,
 "nbformat_minor": 2
}
