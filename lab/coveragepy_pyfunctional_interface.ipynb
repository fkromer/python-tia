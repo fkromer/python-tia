{
 "cells": [
  {
   "cell_type": "code",
   "execution_count": 1,
   "metadata": {},
   "outputs": [],
   "source": [
    "from functional import seq"
   ]
  },
  {
   "cell_type": "code",
   "execution_count": 2,
   "metadata": {},
   "outputs": [],
   "source": [
    "from typing import Iterator, NamedTuple\n",
    "\n",
    "Id = int\n",
    "Ids = Iterator[Id]\n",
    "\n",
    "TestReference = str\n",
    "Line = int\n",
    "Lines = Iterator[Line]\n",
    "\n",
    "FilePath = str\n",
    "FilePaths = Iterator[FilePath]\n",
    "\n",
    "TestName = str\n",
    "TestNames = Iterator[TestName]\n",
    "\n",
    "class FileTableRow(NamedTuple):\n",
    "    file_id: Id\n",
    "    path: FilePath\n",
    "\n",
    "class ContextTableRow(NamedTuple):\n",
    "    context_id: Id\n",
    "    context: TestReference\n",
    "\n",
    "class LineTableRow(NamedTuple):\n",
    "    file_id: Id\n",
    "    context_id: Id\n",
    "    lineno: Line"
   ]
  },
  {
   "cell_type": "code",
   "execution_count": 3,
   "metadata": {},
   "outputs": [],
   "source": [
    "db_path = '../tests/data/.coverage'\n",
    "file_table_rows = seq.sqlite3(db_path, 'SELECT * FROM file').map(lambda x: FileTableRow(*x))"
   ]
  },
  {
   "cell_type": "code",
   "execution_count": 4,
   "metadata": {},
   "outputs": [
    {
     "data": {
      "text/plain": [
       "functional.pipeline.Sequence"
      ]
     },
     "execution_count": 4,
     "metadata": {},
     "output_type": "execute_result"
    }
   ],
   "source": [
    "type(file_table_rows)"
   ]
  },
  {
   "cell_type": "code",
   "execution_count": 5,
   "metadata": {},
   "outputs": [
    {
     "data": {
      "text/plain": [
       "[FileTableRow(file_id=1, path='/home/fk/github/python-tia/tia/__init__.py'),\n",
       " FileTableRow(file_id=2, path='/home/fk/github/python-tia/tia/config.py'),\n",
       " FileTableRow(file_id=3, path='/home/fk/github/python-tia/tia/env.py')]"
      ]
     },
     "execution_count": 5,
     "metadata": {},
     "output_type": "execute_result"
    }
   ],
   "source": [
    "file_table_rows.to_list()"
   ]
  },
  {
   "cell_type": "code",
   "execution_count": 6,
   "metadata": {},
   "outputs": [
    {
     "data": {
      "text/html": [
       "<table>\n",
       "<thead>\n",
       "<tr><th style=\"text-align: right;\">  file_id</th><th>path                                      </th></tr>\n",
       "</thead>\n",
       "<tbody>\n",
       "<tr><td style=\"text-align: right;\">        1</td><td>/home/fk/github/python-tia/tia/__init__.py</td></tr>\n",
       "</tbody>\n",
       "</table>"
      ],
      "text/plain": [
       "[FileTableRow(file_id=1, path='/home/fk/github/python-tia/tia/__init__.py')]"
      ]
     },
     "execution_count": 6,
     "metadata": {},
     "output_type": "execute_result"
    }
   ],
   "source": [
    "# filter files by id\n",
    "file_table_rows.filter(lambda x: x.file_id == 1)"
   ]
  },
  {
   "cell_type": "code",
   "execution_count": 7,
   "metadata": {},
   "outputs": [
    {
     "data": {
      "text/html": [
       "<table>\n",
       "<thead>\n",
       "<tr><th style=\"text-align: right;\">  file_id</th><th>path                                    </th></tr>\n",
       "</thead>\n",
       "<tbody>\n",
       "<tr><td style=\"text-align: right;\">        2</td><td>/home/fk/github/python-tia/tia/config.py</td></tr>\n",
       "</tbody>\n",
       "</table>"
      ],
      "text/plain": [
       "[FileTableRow(file_id=2, path='/home/fk/github/python-tia/tia/config.py')]"
      ]
     },
     "execution_count": 7,
     "metadata": {},
     "output_type": "execute_result"
    }
   ],
   "source": [
    "# filter files by name\n",
    "file_table_rows.filter(lambda x: 'config.py' in x.path)"
   ]
  },
  {
   "cell_type": "code",
   "execution_count": 8,
   "metadata": {},
   "outputs": [],
   "source": [
    "context_table_rows = seq.sqlite3(db_path, 'SELECT * FROM context').map(lambda x: ContextTableRow(*x))"
   ]
  },
  {
   "cell_type": "code",
   "execution_count": 9,
   "metadata": {},
   "outputs": [
    {
     "data": {
      "text/plain": [
       "[ContextTableRow(context_id=1, context=''),\n",
       " ContextTableRow(context_id=2, context='test_reading_existing_valid_config_file_returns_string'),\n",
       " ContextTableRow(context_id=3, context='test_reading_existing_invalid_config_file_raises_error'),\n",
       " ContextTableRow(context_id=4, context='test_reading_non_existing_config_file_raises_exception'),\n",
       " ContextTableRow(context_id=5, context='test_read_valid_parent_key_config'),\n",
       " ContextTableRow(context_id=6, context='test_read_valid_explicit_full_blown_pipelines_config'),\n",
       " ContextTableRow(context_id=7, context='test_read_valid_implicit_full_blown_pipelines_config'),\n",
       " ContextTableRow(context_id=8, context='test_read_valid_single_pipeline_with_dirs_only_config'),\n",
       " ContextTableRow(context_id=9, context='test_read_valid_single_pipeline_with_files_only_config'),\n",
       " ContextTableRow(context_id=10, context='test_read_invalid_pipelines_config'),\n",
       " ContextTableRow(context_id=11, context='test_is_some_ci'),\n",
       " ContextTableRow(context_id=12, context='test_is_no_ci'),\n",
       " ContextTableRow(context_id=13, context='testsfailed')]"
      ]
     },
     "execution_count": 9,
     "metadata": {},
     "output_type": "execute_result"
    }
   ],
   "source": [
    "context_table_rows.to_list()"
   ]
  },
  {
   "cell_type": "code",
   "execution_count": 10,
   "metadata": {},
   "outputs": [
    {
     "data": {
      "text/html": [
       "<table>\n",
       "<thead>\n",
       "<tr><th style=\"text-align: right;\">  context_id</th><th>context                                               </th></tr>\n",
       "</thead>\n",
       "<tbody>\n",
       "<tr><td style=\"text-align: right;\">           4</td><td>test_reading_non_existing_config_file_raises_exception</td></tr>\n",
       "</tbody>\n",
       "</table>"
      ],
      "text/plain": [
       "[ContextTableRow(context_id=4, context='test_reading_non_existing_config_file_raises_exception')]"
      ]
     },
     "execution_count": 10,
     "metadata": {},
     "output_type": "execute_result"
    }
   ],
   "source": [
    "# filter contexts by id\n",
    "context_table_rows.filter(lambda x: x.context_id == 4)"
   ]
  },
  {
   "cell_type": "code",
   "execution_count": 11,
   "metadata": {},
   "outputs": [
    {
     "data": {
      "text/html": [
       "<table>\n",
       "<thead>\n",
       "<tr><th style=\"text-align: right;\">  context_id</th><th>context                                               </th></tr>\n",
       "</thead>\n",
       "<tbody>\n",
       "<tr><td style=\"text-align: right;\">           2</td><td>test_reading_existing_valid_config_file_returns_string</td></tr>\n",
       "<tr><td style=\"text-align: right;\">           3</td><td>test_reading_existing_invalid_config_file_raises_error</td></tr>\n",
       "</tbody>\n",
       "</table>"
      ],
      "text/plain": [
       "[ContextTableRow(context_id=2, context='test_reading_existing_valid_config_file_returns_string'), ContextTableRow(context_id=3, context='test_reading_existing_invalid_config_file_raises_error')]"
      ]
     },
     "execution_count": 11,
     "metadata": {},
     "output_type": "execute_result"
    }
   ],
   "source": [
    "# filter contexts by name\n",
    "context_table_rows.filter(lambda x: 'test_reading_existing' in x.context)"
   ]
  },
  {
   "cell_type": "code",
   "execution_count": 12,
   "metadata": {},
   "outputs": [],
   "source": [
    "line_table_rows = seq.sqlite3(db_path, 'SELECT * FROM line').map(lambda x: LineTableRow(*x))"
   ]
  },
  {
   "cell_type": "code",
   "execution_count": 13,
   "metadata": {},
   "outputs": [
    {
     "data": {
      "text/plain": [
       "functional.pipeline.Sequence"
      ]
     },
     "execution_count": 13,
     "metadata": {},
     "output_type": "execute_result"
    }
   ],
   "source": [
    "type(line_table_rows)"
   ]
  },
  {
   "cell_type": "code",
   "execution_count": 14,
   "metadata": {},
   "outputs": [
    {
     "data": {
      "text/plain": [
       "[LineTableRow(file_id=1, context_id=1, lineno=1),\n",
       " LineTableRow(file_id=2, context_id=1, lineno=1),\n",
       " LineTableRow(file_id=2, context_id=1, lineno=2),\n",
       " LineTableRow(file_id=2, context_id=1, lineno=3),\n",
       " LineTableRow(file_id=2, context_id=1, lineno=5),\n",
       " LineTableRow(file_id=2, context_id=1, lineno=8),\n",
       " LineTableRow(file_id=2, context_id=1, lineno=9),\n",
       " LineTableRow(file_id=2, context_id=1, lineno=12),\n",
       " LineTableRow(file_id=2, context_id=1, lineno=25),\n",
       " LineTableRow(file_id=2, context_id=1, lineno=30),\n",
       " LineTableRow(file_id=3, context_id=1, lineno=7),\n",
       " LineTableRow(file_id=3, context_id=1, lineno=10),\n",
       " LineTableRow(file_id=3, context_id=1, lineno=20),\n",
       " LineTableRow(file_id=3, context_id=1, lineno=27),\n",
       " LineTableRow(file_id=3, context_id=1, lineno=34),\n",
       " LineTableRow(file_id=3, context_id=1, lineno=41),\n",
       " LineTableRow(file_id=3, context_id=1, lineno=48),\n",
       " LineTableRow(file_id=3, context_id=1, lineno=55),\n",
       " LineTableRow(file_id=3, context_id=1, lineno=62),\n",
       " LineTableRow(file_id=3, context_id=1, lineno=69),\n",
       " LineTableRow(file_id=3, context_id=1, lineno=76),\n",
       " LineTableRow(file_id=3, context_id=1, lineno=83),\n",
       " LineTableRow(file_id=3, context_id=1, lineno=90),\n",
       " LineTableRow(file_id=2, context_id=2, lineno=17),\n",
       " LineTableRow(file_id=2, context_id=2, lineno=18),\n",
       " LineTableRow(file_id=2, context_id=2, lineno=20),\n",
       " LineTableRow(file_id=2, context_id=2, lineno=22),\n",
       " LineTableRow(file_id=2, context_id=3, lineno=17),\n",
       " LineTableRow(file_id=2, context_id=3, lineno=18),\n",
       " LineTableRow(file_id=2, context_id=3, lineno=20),\n",
       " LineTableRow(file_id=2, context_id=3, lineno=21),\n",
       " LineTableRow(file_id=2, context_id=4, lineno=17),\n",
       " LineTableRow(file_id=2, context_id=4, lineno=18),\n",
       " LineTableRow(file_id=2, context_id=4, lineno=19),\n",
       " LineTableRow(file_id=2, context_id=5, lineno=26),\n",
       " LineTableRow(file_id=2, context_id=5, lineno=27),\n",
       " LineTableRow(file_id=2, context_id=6, lineno=26),\n",
       " LineTableRow(file_id=2, context_id=6, lineno=27),\n",
       " LineTableRow(file_id=2, context_id=6, lineno=31),\n",
       " LineTableRow(file_id=2, context_id=6, lineno=32),\n",
       " LineTableRow(file_id=2, context_id=6, lineno=33),\n",
       " LineTableRow(file_id=2, context_id=6, lineno=34),\n",
       " LineTableRow(file_id=2, context_id=6, lineno=35),\n",
       " LineTableRow(file_id=2, context_id=6, lineno=36),\n",
       " LineTableRow(file_id=2, context_id=6, lineno=37),\n",
       " LineTableRow(file_id=2, context_id=6, lineno=38),\n",
       " LineTableRow(file_id=2, context_id=6, lineno=39),\n",
       " LineTableRow(file_id=2, context_id=6, lineno=40),\n",
       " LineTableRow(file_id=2, context_id=6, lineno=41),\n",
       " LineTableRow(file_id=2, context_id=6, lineno=42),\n",
       " LineTableRow(file_id=2, context_id=6, lineno=44),\n",
       " LineTableRow(file_id=2, context_id=6, lineno=45),\n",
       " LineTableRow(file_id=2, context_id=6, lineno=46),\n",
       " LineTableRow(file_id=2, context_id=6, lineno=47),\n",
       " LineTableRow(file_id=2, context_id=6, lineno=51),\n",
       " LineTableRow(file_id=2, context_id=6, lineno=52),\n",
       " LineTableRow(file_id=2, context_id=6, lineno=53),\n",
       " LineTableRow(file_id=2, context_id=7, lineno=26),\n",
       " LineTableRow(file_id=2, context_id=7, lineno=27),\n",
       " LineTableRow(file_id=2, context_id=7, lineno=31),\n",
       " LineTableRow(file_id=2, context_id=7, lineno=32),\n",
       " LineTableRow(file_id=2, context_id=7, lineno=33),\n",
       " LineTableRow(file_id=2, context_id=7, lineno=34),\n",
       " LineTableRow(file_id=2, context_id=7, lineno=35),\n",
       " LineTableRow(file_id=2, context_id=7, lineno=36),\n",
       " LineTableRow(file_id=2, context_id=7, lineno=37),\n",
       " LineTableRow(file_id=2, context_id=7, lineno=38),\n",
       " LineTableRow(file_id=2, context_id=7, lineno=39),\n",
       " LineTableRow(file_id=2, context_id=7, lineno=40),\n",
       " LineTableRow(file_id=2, context_id=7, lineno=41),\n",
       " LineTableRow(file_id=2, context_id=7, lineno=42),\n",
       " LineTableRow(file_id=2, context_id=7, lineno=44),\n",
       " LineTableRow(file_id=2, context_id=7, lineno=45),\n",
       " LineTableRow(file_id=2, context_id=7, lineno=46),\n",
       " LineTableRow(file_id=2, context_id=7, lineno=47),\n",
       " LineTableRow(file_id=2, context_id=7, lineno=51),\n",
       " LineTableRow(file_id=2, context_id=7, lineno=52),\n",
       " LineTableRow(file_id=2, context_id=7, lineno=53),\n",
       " LineTableRow(file_id=2, context_id=8, lineno=26),\n",
       " LineTableRow(file_id=2, context_id=8, lineno=27),\n",
       " LineTableRow(file_id=2, context_id=8, lineno=31),\n",
       " LineTableRow(file_id=2, context_id=8, lineno=32),\n",
       " LineTableRow(file_id=2, context_id=8, lineno=33),\n",
       " LineTableRow(file_id=2, context_id=8, lineno=34),\n",
       " LineTableRow(file_id=2, context_id=8, lineno=35),\n",
       " LineTableRow(file_id=2, context_id=8, lineno=36),\n",
       " LineTableRow(file_id=2, context_id=8, lineno=37),\n",
       " LineTableRow(file_id=2, context_id=8, lineno=38),\n",
       " LineTableRow(file_id=2, context_id=8, lineno=39),\n",
       " LineTableRow(file_id=2, context_id=8, lineno=40),\n",
       " LineTableRow(file_id=2, context_id=8, lineno=41),\n",
       " LineTableRow(file_id=2, context_id=8, lineno=42),\n",
       " LineTableRow(file_id=2, context_id=8, lineno=44),\n",
       " LineTableRow(file_id=2, context_id=8, lineno=45),\n",
       " LineTableRow(file_id=2, context_id=8, lineno=46),\n",
       " LineTableRow(file_id=2, context_id=8, lineno=47),\n",
       " LineTableRow(file_id=2, context_id=8, lineno=51),\n",
       " LineTableRow(file_id=2, context_id=8, lineno=52),\n",
       " LineTableRow(file_id=2, context_id=8, lineno=53),\n",
       " LineTableRow(file_id=2, context_id=9, lineno=26),\n",
       " LineTableRow(file_id=2, context_id=9, lineno=27),\n",
       " LineTableRow(file_id=2, context_id=9, lineno=31),\n",
       " LineTableRow(file_id=2, context_id=9, lineno=32),\n",
       " LineTableRow(file_id=2, context_id=9, lineno=33),\n",
       " LineTableRow(file_id=2, context_id=9, lineno=34),\n",
       " LineTableRow(file_id=2, context_id=9, lineno=35),\n",
       " LineTableRow(file_id=2, context_id=9, lineno=36),\n",
       " LineTableRow(file_id=2, context_id=9, lineno=37),\n",
       " LineTableRow(file_id=2, context_id=9, lineno=38),\n",
       " LineTableRow(file_id=2, context_id=9, lineno=39),\n",
       " LineTableRow(file_id=2, context_id=9, lineno=40),\n",
       " LineTableRow(file_id=2, context_id=9, lineno=41),\n",
       " LineTableRow(file_id=2, context_id=9, lineno=42),\n",
       " LineTableRow(file_id=2, context_id=9, lineno=44),\n",
       " LineTableRow(file_id=2, context_id=9, lineno=45),\n",
       " LineTableRow(file_id=2, context_id=9, lineno=46),\n",
       " LineTableRow(file_id=2, context_id=9, lineno=47),\n",
       " LineTableRow(file_id=2, context_id=9, lineno=51),\n",
       " LineTableRow(file_id=2, context_id=9, lineno=52),\n",
       " LineTableRow(file_id=2, context_id=9, lineno=53),\n",
       " LineTableRow(file_id=2, context_id=10, lineno=26),\n",
       " LineTableRow(file_id=2, context_id=10, lineno=27),\n",
       " LineTableRow(file_id=2, context_id=10, lineno=31),\n",
       " LineTableRow(file_id=2, context_id=10, lineno=32),\n",
       " LineTableRow(file_id=2, context_id=10, lineno=33),\n",
       " LineTableRow(file_id=2, context_id=10, lineno=34),\n",
       " LineTableRow(file_id=2, context_id=10, lineno=35),\n",
       " LineTableRow(file_id=2, context_id=10, lineno=36),\n",
       " LineTableRow(file_id=2, context_id=10, lineno=37),\n",
       " LineTableRow(file_id=2, context_id=10, lineno=38),\n",
       " LineTableRow(file_id=2, context_id=10, lineno=39),\n",
       " LineTableRow(file_id=2, context_id=10, lineno=40),\n",
       " LineTableRow(file_id=2, context_id=10, lineno=41),\n",
       " LineTableRow(file_id=2, context_id=10, lineno=42),\n",
       " LineTableRow(file_id=2, context_id=10, lineno=44),\n",
       " LineTableRow(file_id=2, context_id=10, lineno=45),\n",
       " LineTableRow(file_id=2, context_id=10, lineno=46),\n",
       " LineTableRow(file_id=2, context_id=10, lineno=47),\n",
       " LineTableRow(file_id=2, context_id=10, lineno=51),\n",
       " LineTableRow(file_id=2, context_id=10, lineno=52),\n",
       " LineTableRow(file_id=2, context_id=10, lineno=54),\n",
       " LineTableRow(file_id=2, context_id=10, lineno=55),\n",
       " LineTableRow(file_id=3, context_id=11, lineno=12),\n",
       " LineTableRow(file_id=3, context_id=11, lineno=23),\n",
       " LineTableRow(file_id=3, context_id=11, lineno=24),\n",
       " LineTableRow(file_id=3, context_id=11, lineno=91),\n",
       " LineTableRow(file_id=3, context_id=11, lineno=92),\n",
       " LineTableRow(file_id=3, context_id=11, lineno=15),\n",
       " LineTableRow(file_id=3, context_id=11, lineno=94),\n",
       " LineTableRow(file_id=3, context_id=11, lineno=30),\n",
       " LineTableRow(file_id=3, context_id=11, lineno=31),\n",
       " LineTableRow(file_id=3, context_id=11, lineno=37),\n",
       " LineTableRow(file_id=3, context_id=11, lineno=38),\n",
       " LineTableRow(file_id=3, context_id=11, lineno=44),\n",
       " LineTableRow(file_id=3, context_id=11, lineno=45),\n",
       " LineTableRow(file_id=3, context_id=11, lineno=51),\n",
       " LineTableRow(file_id=3, context_id=11, lineno=52),\n",
       " LineTableRow(file_id=3, context_id=11, lineno=13),\n",
       " LineTableRow(file_id=3, context_id=11, lineno=58),\n",
       " LineTableRow(file_id=3, context_id=11, lineno=59),\n",
       " LineTableRow(file_id=3, context_id=11, lineno=65),\n",
       " LineTableRow(file_id=3, context_id=11, lineno=66),\n",
       " LineTableRow(file_id=3, context_id=11, lineno=72),\n",
       " LineTableRow(file_id=3, context_id=11, lineno=73),\n",
       " LineTableRow(file_id=3, context_id=11, lineno=79),\n",
       " LineTableRow(file_id=3, context_id=11, lineno=80),\n",
       " LineTableRow(file_id=3, context_id=11, lineno=14),\n",
       " LineTableRow(file_id=3, context_id=11, lineno=86),\n",
       " LineTableRow(file_id=3, context_id=11, lineno=87),\n",
       " LineTableRow(file_id=3, context_id=12, lineno=12),\n",
       " LineTableRow(file_id=3, context_id=12, lineno=23),\n",
       " LineTableRow(file_id=3, context_id=12, lineno=24),\n",
       " LineTableRow(file_id=3, context_id=12, lineno=91),\n",
       " LineTableRow(file_id=3, context_id=12, lineno=94),\n",
       " LineTableRow(file_id=3, context_id=12, lineno=30),\n",
       " LineTableRow(file_id=3, context_id=12, lineno=31),\n",
       " LineTableRow(file_id=3, context_id=12, lineno=37),\n",
       " LineTableRow(file_id=3, context_id=12, lineno=38),\n",
       " LineTableRow(file_id=3, context_id=12, lineno=44),\n",
       " LineTableRow(file_id=3, context_id=12, lineno=45),\n",
       " LineTableRow(file_id=3, context_id=12, lineno=51),\n",
       " LineTableRow(file_id=3, context_id=12, lineno=52),\n",
       " LineTableRow(file_id=3, context_id=12, lineno=13),\n",
       " LineTableRow(file_id=3, context_id=12, lineno=58),\n",
       " LineTableRow(file_id=3, context_id=12, lineno=59),\n",
       " LineTableRow(file_id=3, context_id=12, lineno=65),\n",
       " LineTableRow(file_id=3, context_id=12, lineno=66),\n",
       " LineTableRow(file_id=3, context_id=12, lineno=72),\n",
       " LineTableRow(file_id=3, context_id=12, lineno=73),\n",
       " LineTableRow(file_id=3, context_id=12, lineno=79),\n",
       " LineTableRow(file_id=3, context_id=12, lineno=80),\n",
       " LineTableRow(file_id=3, context_id=12, lineno=14),\n",
       " LineTableRow(file_id=3, context_id=12, lineno=86),\n",
       " LineTableRow(file_id=3, context_id=12, lineno=87),\n",
       " LineTableRow(file_id=3, context_id=12, lineno=17)]"
      ]
     },
     "execution_count": 14,
     "metadata": {},
     "output_type": "execute_result"
    }
   ],
   "source": [
    "line_table_rows.to_list()"
   ]
  },
  {
   "cell_type": "code",
   "execution_count": 15,
   "metadata": {},
   "outputs": [
    {
     "data": {
      "text/html": [
       "<table>\n",
       "<thead>\n",
       "<tr><th style=\"text-align: right;\">  file_id</th><th style=\"text-align: right;\">  context_id</th><th style=\"text-align: right;\">  lineno</th></tr>\n",
       "</thead>\n",
       "<tbody>\n",
       "<tr><td style=\"text-align: right;\">        1</td><td style=\"text-align: right;\">           1</td><td style=\"text-align: right;\">       1</td></tr>\n",
       "<tr><td style=\"text-align: right;\">        2</td><td style=\"text-align: right;\">           1</td><td style=\"text-align: right;\">       1</td></tr>\n",
       "<tr><td style=\"text-align: right;\">        2</td><td style=\"text-align: right;\">           1</td><td style=\"text-align: right;\">       2</td></tr>\n",
       "<tr><td style=\"text-align: right;\">        2</td><td style=\"text-align: right;\">           1</td><td style=\"text-align: right;\">       3</td></tr>\n",
       "<tr><td style=\"text-align: right;\">        2</td><td style=\"text-align: right;\">           1</td><td style=\"text-align: right;\">       5</td></tr>\n",
       "<tr><td style=\"text-align: right;\">        2</td><td style=\"text-align: right;\">           1</td><td style=\"text-align: right;\">       8</td></tr>\n",
       "<tr><td style=\"text-align: right;\">        2</td><td style=\"text-align: right;\">           1</td><td style=\"text-align: right;\">       9</td></tr>\n",
       "<tr><td style=\"text-align: right;\">        2</td><td style=\"text-align: right;\">           1</td><td style=\"text-align: right;\">      12</td></tr>\n",
       "<tr><td style=\"text-align: right;\">        2</td><td style=\"text-align: right;\">           1</td><td style=\"text-align: right;\">      25</td></tr>\n",
       "<tr><td style=\"text-align: right;\">        2</td><td style=\"text-align: right;\">           1</td><td style=\"text-align: right;\">      30</td></tr>\n",
       "</tbody>\n",
       "</table><p>Showing 10 of 23 rows"
      ],
      "text/plain": [
       "[LineTableRow(file_id=1, context_id=1, lineno=1), LineTableRow(file_id=2, context_id=1, lineno=1), LineTableRow(file_id=2, context_id=1, lineno=2), LineTableRow(file_id=2, context_id=1, lineno=3), LineTableRow(file_id=2, context_id=1, lineno=5), LineTableRow(file_id=2, context_id=1, lineno=8), LineTableRow(file_id=2, context_id=1, lineno=9), LineTableRow(file_id=2, context_id=1, lineno=12), LineTableRow(file_id=2, context_id=1, lineno=25), LineTableRow(file_id=2, context_id=1, lineno=30), LineTableRow(file_id=3, context_id=1, lineno=7), LineTableRow(file_id=3, context_id=1, lineno=10), LineTableRow(file_id=3, context_id=1, lineno=20), LineTableRow(file_id=3, context_id=1, lineno=27), LineTableRow(file_id=3, context_id=1, lineno=34), LineTableRow(file_id=3, context_id=1, lineno=41), LineTableRow(file_id=3, context_id=1, lineno=48), LineTableRow(file_id=3, context_id=1, lineno=55), LineTableRow(file_id=3, context_id=1, lineno=62), LineTableRow(file_id=3, context_id=1, lineno=69), LineTableRow(file_id=3, context_id=1, lineno=76), LineTableRow(file_id=3, context_id=1, lineno=83), LineTableRow(file_id=3, context_id=1, lineno=90)]"
      ]
     },
     "execution_count": 15,
     "metadata": {},
     "output_type": "execute_result"
    }
   ],
   "source": [
    "# filter lines by file id\n",
    "line_table_rows.filter(lambda x: x.context_id == 1)"
   ]
  },
  {
   "cell_type": "code",
   "execution_count": 16,
   "metadata": {},
   "outputs": [],
   "source": [
    "Id = int\n",
    "Ids = Iterator[Id]\n",
    "\n",
    "FilePath = str\n",
    "FilePaths = Iterator[FilePath]\n",
    "\n",
    "TestName = str\n",
    "TestNames = Iterator[TestName]\n",
    "\n",
    "\n",
    "class CoverageMapSingle(NamedTuple):\n",
    "    \"\"\"\n",
    "    File based coverage map (not line based w.r.t. production code functions)\n",
    "    of single test name to potentially multiple production code files.\n",
    "    \"\"\"\n",
    "    test: TestName\n",
    "    production_code: FilePaths\n",
    "\n",
    "\n",
    "CoverageMap = Iterator[CoverageMapSingle]\n",
    "# File based coverage map (not line based) of test names to potentially multiple production code files per test name.\n",
    "\n",
    "\n",
    "class ImpactMapSingle(NamedTuple):\n",
    "    \"\"\"\n",
    "    File based impact map (not line based w.r.t. test code functions)\n",
    "    of single production code file to potentially multiple test names\n",
    "    \"\"\"\n",
    "    production_code: FilePath\n",
    "    tests: TestNames\n",
    "\n",
    "\n",
    "ImpactMap = Iterator[ImpactMapSingle]"
   ]
  },
  {
   "cell_type": "code",
   "execution_count": 17,
   "metadata": {},
   "outputs": [],
   "source": [
    "from typing import NamedTuple\n",
    "\n",
    "FilePath = str\n",
    "\n",
    "Line = int\n",
    "Lines = Iterator[Line]\n",
    "\n",
    "class FileCoverage(NamedTuple):\n",
    "    \"\"\"\n",
    "    File based line coverage.\n",
    "    \"\"\"\n",
    "    production_code: FilePath\n",
    "    covered_lines: Lines\n",
    "\n",
    "FileCoverages = Iterator[FileCoverage]"
   ]
  },
  {
   "cell_type": "code",
   "execution_count": 18,
   "metadata": {},
   "outputs": [],
   "source": [
    "def get_covered_lines(file_table_rows, line_table_rows, file_paths) -> FileCoverages:\n",
    "    \"\"\"\n",
    "    For every file_path:\n",
    "        file_path -> file_table -> file_id -> line_table -> covered_lines\n",
    "    \n",
    "    File path line numbers are unsorted.\n",
    "    \"\"\"\n",
    "    for file_path in file_paths:\n",
    "        file = file_table_rows.filter(lambda x: file_path in x.path)  # fuzzy search like filtering\n",
    "        file_id = file.head().file_id\n",
    "        covered_lines_rows = line_table_rows.filter(lambda x: x.file_id == file_id)\n",
    "        covered_lines = (l.lineno for l in covered_lines_rows)\n",
    "        yield FileCoverage(file_path, covered_lines)"
   ]
  },
  {
   "cell_type": "code",
   "execution_count": 19,
   "metadata": {},
   "outputs": [],
   "source": [
    "path_name_iterator = iter(['tia/__init__.py', 'tia/config.py', 'tia/env.py'])\n",
    "file_coverages = get_covered_lines(file_table_rows, line_table_rows, path_name_iterator)"
   ]
  },
  {
   "cell_type": "code",
   "execution_count": 20,
   "metadata": {},
   "outputs": [
    {
     "data": {
      "text/plain": [
       "generator"
      ]
     },
     "execution_count": 20,
     "metadata": {},
     "output_type": "execute_result"
    }
   ],
   "source": [
    "type(file_coverages)"
   ]
  },
  {
   "cell_type": "code",
   "execution_count": 21,
   "metadata": {},
   "outputs": [
    {
     "name": "stdout",
     "output_type": "stream",
     "text": [
      "'tia/__init__.py'\n",
      "1\n",
      "'tia/config.py'\n",
      "1\n",
      "2\n",
      "3\n",
      "5\n",
      "8\n",
      "9\n",
      "12\n",
      "25\n",
      "30\n",
      "17\n",
      "18\n",
      "20\n",
      "22\n",
      "17\n",
      "18\n",
      "20\n",
      "21\n",
      "17\n",
      "18\n",
      "19\n",
      "26\n",
      "27\n",
      "26\n",
      "27\n",
      "31\n",
      "32\n",
      "33\n",
      "34\n",
      "35\n",
      "36\n",
      "37\n",
      "38\n",
      "39\n",
      "40\n",
      "41\n",
      "42\n",
      "44\n",
      "45\n",
      "46\n",
      "47\n",
      "51\n",
      "52\n",
      "53\n",
      "26\n",
      "27\n",
      "31\n",
      "32\n",
      "33\n",
      "34\n",
      "35\n",
      "36\n",
      "37\n",
      "38\n",
      "39\n",
      "40\n",
      "41\n",
      "42\n",
      "44\n",
      "45\n",
      "46\n",
      "47\n",
      "51\n",
      "52\n",
      "53\n",
      "26\n",
      "27\n",
      "31\n",
      "32\n",
      "33\n",
      "34\n",
      "35\n",
      "36\n",
      "37\n",
      "38\n",
      "39\n",
      "40\n",
      "41\n",
      "42\n",
      "44\n",
      "45\n",
      "46\n",
      "47\n",
      "51\n",
      "52\n",
      "53\n",
      "26\n",
      "27\n",
      "31\n",
      "32\n",
      "33\n",
      "34\n",
      "35\n",
      "36\n",
      "37\n",
      "38\n",
      "39\n",
      "40\n",
      "41\n",
      "42\n",
      "44\n",
      "45\n",
      "46\n",
      "47\n",
      "51\n",
      "52\n",
      "53\n",
      "26\n",
      "27\n",
      "31\n",
      "32\n",
      "33\n",
      "34\n",
      "35\n",
      "36\n",
      "37\n",
      "38\n",
      "39\n",
      "40\n",
      "41\n",
      "42\n",
      "44\n",
      "45\n",
      "46\n",
      "47\n",
      "51\n",
      "52\n",
      "54\n",
      "55\n",
      "'tia/env.py'\n",
      "7\n",
      "10\n",
      "20\n",
      "27\n",
      "34\n",
      "41\n",
      "48\n",
      "55\n",
      "62\n",
      "69\n",
      "76\n",
      "83\n",
      "90\n",
      "12\n",
      "23\n",
      "24\n",
      "91\n",
      "92\n",
      "15\n",
      "94\n",
      "30\n",
      "31\n",
      "37\n",
      "38\n",
      "44\n",
      "45\n",
      "51\n",
      "52\n",
      "13\n",
      "58\n",
      "59\n",
      "65\n",
      "66\n",
      "72\n",
      "73\n",
      "79\n",
      "80\n",
      "14\n",
      "86\n",
      "87\n",
      "12\n",
      "23\n",
      "24\n",
      "91\n",
      "94\n",
      "30\n",
      "31\n",
      "37\n",
      "38\n",
      "44\n",
      "45\n",
      "51\n",
      "52\n",
      "13\n",
      "58\n",
      "59\n",
      "65\n",
      "66\n",
      "72\n",
      "73\n",
      "79\n",
      "80\n",
      "14\n",
      "86\n",
      "87\n",
      "17\n"
     ]
    }
   ],
   "source": [
    "# visualize get_covered_lines output\n",
    "for fc in file_coverages:\n",
    "    import pprint\n",
    "    pprint.pprint(fc.production_code)\n",
    "    for cl in fc.covered_lines:\n",
    "        pprint.pprint(cl)"
   ]
  },
  {
   "cell_type": "code",
   "execution_count": 22,
   "metadata": {},
   "outputs": [],
   "source": [
    "def get_impact_map(file_table_rows, line_table_rows, context_table_rows, file_paths) -> ImpactMap:\n",
    "    \"\"\"\n",
    "    For every file_path:\n",
    "        file_path -> file_table_rows -> file_id -> line_table_row -> tests\n",
    "    \"\"\"\n",
    "    for file_path in file_paths:\n",
    "        # TODO: make search strict and fuzzy search in separate function (SRP)\n",
    "        file = file_table_rows.filter(lambda x: file_path in x.path)  # fuzzy search like filtering\n",
    "        file_id = file.head().file_id\n",
    "        impacted_lines_rows = line_table_rows.filter(lambda x: x.file_id == file_id)\n",
    "        test_ids = (l.context_id for l in impacted_lines_rows)\n",
    "        tests = set()\n",
    "        for test_id in test_ids:\n",
    "            impacted_context_rows = context_table_rows.filter(lambda x: x.context_id == test_id)\n",
    "            test = impacted_context_rows.head().context\n",
    "            # workaround for coveragepy 5.02a empty and irrelevant context entries \n",
    "            if test is not \"\" or not \"testsfailed\":\n",
    "                tests.add(test)\n",
    "        filter(None, tests)  # get rid of empty set element\n",
    "        yield ImpactMapSingle(file_path, tests)\n",
    "        del tests  # free memory from set"
   ]
  },
  {
   "cell_type": "code",
   "execution_count": 23,
   "metadata": {},
   "outputs": [],
   "source": [
    "changed_production_code = ['tia/config.py', 'tia/env.py']\n",
    "changed_production_code_iterator = iter(changed_production_code)"
   ]
  },
  {
   "cell_type": "code",
   "execution_count": 24,
   "metadata": {},
   "outputs": [],
   "source": [
    "impacted_test_code = get_impact_map(file_table_rows, line_table_rows, context_table_rows, changed_production_code_iterator)"
   ]
  },
  {
   "cell_type": "code",
   "execution_count": 25,
   "metadata": {},
   "outputs": [
    {
     "name": "stdout",
     "output_type": "stream",
     "text": [
      "'prod code: tia/config.py'\n",
      "'test: test_read_valid_explicit_full_blown_pipelines_config'\n",
      "'test: test_read_valid_single_pipeline_with_files_only_config'\n",
      "'test: test_read_valid_single_pipeline_with_dirs_only_config'\n",
      "'test: test_read_valid_implicit_full_blown_pipelines_config'\n",
      "'test: test_reading_existing_invalid_config_file_raises_error'\n",
      "'test: test_read_invalid_pipelines_config'\n",
      "'test: test_reading_non_existing_config_file_raises_exception'\n",
      "'test: test_reading_existing_valid_config_file_returns_string'\n",
      "'test: test_read_valid_parent_key_config'\n",
      "'prod code: tia/env.py'\n",
      "'test: test_is_some_ci'\n",
      "'test: test_is_no_ci'\n"
     ]
    }
   ],
   "source": [
    "impacted_test_code\n",
    "\n",
    "# visualize get_impact_map output\n",
    "for itc in impacted_test_code:\n",
    "    import pprint\n",
    "    pprint.pprint('prod code: ' + itc.production_code)\n",
    "    for test in itc.tests:\n",
    "        pprint.pprint('test: ' + test)"
   ]
  },
  {
   "cell_type": "code",
   "execution_count": 26,
   "metadata": {},
   "outputs": [],
   "source": [
    "def get_coverage_map(context_table_rows, line_table_rows, file_table_rows, tests) -> CoverageMap:\n",
    "    \"\"\"\n",
    "    For every test:\n",
    "        test aka context -> context_table_rows -> context_id -> line_table_row -> file_paths\n",
    "    \"\"\"\n",
    "    for test_name in tests:\n",
    "        # TODO: make search strict and fuzzy search in separate function (SRP)\n",
    "        test = context_table_rows.filter(lambda x: test_name in x.context)  # fuzzy search like filtering\n",
    "        test_id = test.head().context_id\n",
    "        covered_lines_rows = line_table_rows.filter(lambda x: x.context_id == test_id)\n",
    "        file_ids = (l.file_id for l in covered_lines_rows)\n",
    "        file_paths = set()\n",
    "        for file_id in file_ids:\n",
    "            covered_file_rows = file_table_rows.filter(lambda x: x.file_id == file_id)\n",
    "            file_path = covered_file_rows.head().path\n",
    "            file_paths.add(file_path)        \n",
    "        yield CoverageMapSingle(test_name, file_paths)\n",
    "        del file_paths  # free memory from set"
   ]
  },
  {
   "cell_type": "code",
   "execution_count": 27,
   "metadata": {},
   "outputs": [],
   "source": [
    "changed_test_code = ['test_read_valid_parent_key_config', 'test_read_invalid_pipelines_config', 'test_is_no_ci']"
   ]
  },
  {
   "cell_type": "code",
   "execution_count": 28,
   "metadata": {},
   "outputs": [
    {
     "name": "stdout",
     "output_type": "stream",
     "text": [
      "'test: test_read_valid_parent_key_config'\n",
      "'production code: /home/fk/github/python-tia/tia/config.py'\n",
      "'test: test_read_invalid_pipelines_config'\n",
      "'production code: /home/fk/github/python-tia/tia/config.py'\n",
      "'test: test_is_no_ci'\n",
      "'production code: /home/fk/github/python-tia/tia/env.py'\n"
     ]
    }
   ],
   "source": [
    "impacted_production_code = get_coverage_map(context_table_rows, line_table_rows, file_table_rows, changed_test_code)\n",
    "\n",
    "# visualize get_impact_map output\n",
    "for ipc in impacted_production_code:\n",
    "    import pprint\n",
    "    pprint.pprint('test: ' + ipc.test)\n",
    "    #pprint.pprint(ipc)\n",
    "    for pc in ipc.production_code:\n",
    "        pprint.pprint('production code: ' + pc)"
   ]
  }
 ],
 "metadata": {
  "kernelspec": {
   "display_name": "Python 3",
   "language": "python",
   "name": "python3"
  },
  "language_info": {
   "codemirror_mode": {
    "name": "ipython",
    "version": 3
   },
   "file_extension": ".py",
   "mimetype": "text/x-python",
   "name": "python",
   "nbconvert_exporter": "python",
   "pygments_lexer": "ipython3",
   "version": "3.6.6"
  }
 },
 "nbformat": 4,
 "nbformat_minor": 2
}
