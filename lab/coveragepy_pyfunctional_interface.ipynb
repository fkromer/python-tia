{
 "cells": [
  {
   "cell_type": "code",
   "execution_count": 1,
   "metadata": {},
   "outputs": [],
   "source": [
    "from functional import seq\n",
    "from functional.pipeline import Sequence\n",
    "from typing import Iterator, NamedTuple\n",
    "from tia.cov import FileTableRow, ContextTableRow, LineTableRow, get_context_table, get_file_table, get_line_table\n",
    "from tia.maps import CoverageMap, CoverageMapSingle, ImpactMap, ImpactMapSingle"
   ]
  },
  {
   "cell_type": "code",
   "execution_count": 2,
   "metadata": {},
   "outputs": [],
   "source": [
    "db_path = '../tests/data/.coverage'"
   ]
  },
  {
   "cell_type": "code",
   "execution_count": 3,
   "metadata": {},
   "outputs": [],
   "source": [
    "file_table = get_file_table(db_path)\n",
    "#assert type(file_table) == Sequence"
   ]
  },
  {
   "cell_type": "code",
   "execution_count": 4,
   "metadata": {},
   "outputs": [],
   "source": [
    "context_table = get_context_table(db_path)\n",
    "#assert type(context_table) == Sequence"
   ]
  },
  {
   "cell_type": "code",
   "execution_count": 5,
   "metadata": {},
   "outputs": [],
   "source": [
    "line_table = get_line_table(db_path)\n",
    "#assert type(line_table) == Sequence"
   ]
  },
  {
   "cell_type": "code",
   "execution_count": 6,
   "metadata": {},
   "outputs": [],
   "source": [
    "def get_impact_map(file_table_rows, line_table_rows, context_table_rows, file_paths) -> ImpactMap:\n",
    "    \"\"\"\n",
    "    For every file_path:\n",
    "        file_path -> file_table_rows -> file_id -> line_table_row -> tests\n",
    "    \"\"\"\n",
    "    impact_map = []  # TODO: get rid of temporary hashable list for later sequence generation\n",
    "    # explicit caching required, otherwise raise of \"IndexError: list index out of range\"\n",
    "    file_table_rows.cache()\n",
    "    line_table_rows.cache()\n",
    "    context_table_rows.cache()\n",
    "    for file_path in file_paths:\n",
    "        # TODO: make search strict and fuzzy search in separate function (SRP)\n",
    "        file = file_table_rows.filter(lambda x: file_path in x.path)  # fuzzy search like filtering\n",
    "        file_id = file.head().file_id\n",
    "        impacted_lines_rows = line_table_rows.filter(lambda x: x.file_id == file_id)\n",
    "        test_ids = (l.context_id for l in impacted_lines_rows)\n",
    "        tests = set()\n",
    "        for test_id in test_ids:\n",
    "            impacted_context_rows = context_table_rows.filter(lambda x: x.context_id == test_id)\n",
    "            test = impacted_context_rows.head().context\n",
    "            # workaround for coveragepy 5.02a empty and irrelevant context entries \n",
    "            if test is not \"\" or not \"testsfailed\":\n",
    "                tests.add(test)\n",
    "        filter(None, tests)  # get rid of empty set element\n",
    "        impact_map.append(ImpactMapSingle(file_path, seq(tests)))\n",
    "        del tests  # free memory from set\n",
    "    return seq(impact_map)\n",
    "    del impact_map  # free memory from list"
   ]
  },
  {
   "cell_type": "code",
   "execution_count": 7,
   "metadata": {},
   "outputs": [
    {
     "data": {
      "text/html": [
       "<table>\n",
       "<thead>\n",
       "<tr><th>production_code  </th><th>tests                                                                                                                                                                                                                                                                                                                                                                                                                                                                                       </th></tr>\n",
       "</thead>\n",
       "<tbody>\n",
       "<tr><td>tia/config.py    </td><td>['test_read_valid_single_pipeline_with_dirs_only_config', 'test_reading_existing_valid_config_file_returns_string', 'test_read_valid_single_pipeline_with_files_only_config', 'test_read_invalid_pipelines_config', 'test_reading_existing_invalid_config_file_raises_error', 'test_read_valid_parent_key_config', 'test_read_valid_explicit_full_blown_pipelines_config', 'test_reading_non_existing_config_file_raises_exception', 'test_read_valid_implicit_full_blown_pipelines_config']</td></tr>\n",
       "<tr><td>tia/env.py       </td><td>['test_is_some_ci', 'test_is_no_ci']                                                                                                                                                                                                                                                                                                                                                                                                                                                        </td></tr>\n",
       "</tbody>\n",
       "</table>"
      ],
      "text/plain": [
       "[ImpactMapSingle(production_code='tia/config.py', tests=['test_read_valid_single_pipeline_with_dirs_only_config', 'test_reading_existing_valid_config_file_returns_string', 'test_read_valid_single_pipeline_with_files_only_config', 'test_read_invalid_pipelines_config', 'test_reading_existing_invalid_config_file_raises_error', 'test_read_valid_parent_key_config', 'test_read_valid_explicit_full_blown_pipelines_config', 'test_reading_non_existing_config_file_raises_exception', 'test_read_valid_implicit_full_blown_pipelines_config']), ImpactMapSingle(production_code='tia/env.py', tests=['test_is_some_ci', 'test_is_no_ci'])]"
      ]
     },
     "execution_count": 7,
     "metadata": {},
     "output_type": "execute_result"
    }
   ],
   "source": [
    "changed_production_files = ['tia/config.py', 'tia/env.py']\n",
    "impacted_tests = get_impact_map(file_table, line_table, context_table, changed_production_files)\n",
    "assert type(impacted_tests) == Sequence\n",
    "impacted_tests"
   ]
  },
  {
   "cell_type": "code",
   "execution_count": 8,
   "metadata": {},
   "outputs": [],
   "source": [
    "def get_coverage_map(context_table_rows, line_table_rows, file_table_rows, tests) -> CoverageMap:\n",
    "    \"\"\"\n",
    "    For every test:\n",
    "        test aka context -> context_table_rows -> context_id -> line_table_row -> file_paths\n",
    "    \"\"\"\n",
    "    coverage_map = []  # TODO: get rid of temporary hashable list for later sequence generation\n",
    "    # explicit caching required, otherwise raise of \"IndexError: list index out of range\"\n",
    "    context_table_rows.cache()\n",
    "    line_table_rows.cache()\n",
    "    file_table_rows.cache()\n",
    "    for test_name in tests:\n",
    "        # TODO: make search strict and fuzzy search in separate function (SRP)\n",
    "        test = context_table_rows.filter(lambda x: test_name in x.context)  # fuzzy search like filtering\n",
    "        test_id = test.head().context_id\n",
    "        covered_lines_rows = line_table_rows.filter(lambda x: x.context_id == test_id)\n",
    "        file_ids = (l.file_id for l in covered_lines_rows)\n",
    "        file_paths = set()\n",
    "        for file_id in file_ids:\n",
    "            covered_file_rows = file_table_rows.filter(lambda x: x.file_id == file_id)\n",
    "            file_path = covered_file_rows.head().path\n",
    "            file_paths.add(file_path)        \n",
    "        coverage_map.append(CoverageMapSingle(test_name, seq(file_paths)))\n",
    "        del file_paths  # free memory from set\n",
    "    return seq(coverage_map)\n",
    "    del coverage_map  # free memory from list"
   ]
  },
  {
   "cell_type": "code",
   "execution_count": 9,
   "metadata": {},
   "outputs": [
    {
     "data": {
      "text/html": [
       "<table>\n",
       "<thead>\n",
       "<tr><th>test                              </th><th>production_code                             </th></tr>\n",
       "</thead>\n",
       "<tbody>\n",
       "<tr><td>test_read_valid_parent_key_config </td><td>['/home/fk/github/python-tia/tia/config.py']</td></tr>\n",
       "<tr><td>test_read_invalid_pipelines_config</td><td>['/home/fk/github/python-tia/tia/config.py']</td></tr>\n",
       "<tr><td>test_is_no_ci                     </td><td>['/home/fk/github/python-tia/tia/env.py']   </td></tr>\n",
       "</tbody>\n",
       "</table>"
      ],
      "text/plain": [
       "[CoverageMapSingle(test='test_read_valid_parent_key_config', production_code=['/home/fk/github/python-tia/tia/config.py']), CoverageMapSingle(test='test_read_invalid_pipelines_config', production_code=['/home/fk/github/python-tia/tia/config.py']), CoverageMapSingle(test='test_is_no_ci', production_code=['/home/fk/github/python-tia/tia/env.py'])]"
      ]
     },
     "execution_count": 9,
     "metadata": {},
     "output_type": "execute_result"
    }
   ],
   "source": [
    "changed_tests = ['test_read_valid_parent_key_config', 'test_read_invalid_pipelines_config', 'test_is_no_ci']\n",
    "# explicit caching required here if context_table and line_table are not cached before, otherwise get_coverage_map raises \"IndexError: list index out of range\"\n",
    "impacted_production_files = get_coverage_map(context_table, line_table, file_table, changed_tests)\n",
    "assert type(impacted_production_files) == Sequence\n",
    "impacted_production_files"
   ]
  },
  {
   "cell_type": "code",
   "execution_count": 10,
   "metadata": {},
   "outputs": [],
   "source": [
    "from typing import NamedTuple\n",
    "\n",
    "FilePath = str\n",
    "\n",
    "Line = int\n",
    "Lines = Iterator[Line]\n",
    "\n",
    "class FileCoverage(NamedTuple):\n",
    "    \"\"\"\n",
    "    File based line coverage.\n",
    "    \"\"\"\n",
    "    production_code: FilePath\n",
    "    covered_lines: Lines\n",
    "\n",
    "FileCoverages = Iterator[FileCoverage]"
   ]
  },
  {
   "cell_type": "code",
   "execution_count": 11,
   "metadata": {},
   "outputs": [],
   "source": [
    "def get_covered_lines(file_table_rows, line_table_rows, file_paths) -> FileCoverages:\n",
    "    \"\"\"\n",
    "    For every file_path:\n",
    "        file_path -> file_table -> file_id -> line_table -> covered_lines\n",
    "    \"\"\"\n",
    "    file_coverages = []\n",
    "    # explicit caching required, otherwise raise of \"IndexError: list index out of range\"\n",
    "    file_table_rows.cache()\n",
    "    line_table_rows.cache()\n",
    "    for file_path in file_paths:\n",
    "        covered_lines = []\n",
    "        file = file_table_rows.filter(lambda x: file_path in x.path)  # fuzzy search like filtering\n",
    "        file_id = file.head().file_id\n",
    "        covered_lines_rows = line_table_rows.filter(lambda x: x.file_id == file_id)\n",
    "        covered_lines = [l.lineno for l in covered_lines_rows]\n",
    "        file_coverages.append(FileCoverage(file_path, seq(covered_lines)))\n",
    "        del covered_lines\n",
    "    return seq(file_coverages)\n",
    "    del file_coverages  # free memory from list"
   ]
  },
  {
   "cell_type": "code",
   "execution_count": 12,
   "metadata": {},
   "outputs": [
    {
     "data": {
      "text/html": [
       "<table>\n",
       "<thead>\n",
       "<tr><th>production_code  </th><th>covered_lines                                                                                                                                                                                                                                                                                                                                                                                                                                                                                                             </th></tr>\n",
       "</thead>\n",
       "<tbody>\n",
       "<tr><td>tia/__init__.py  </td><td>[1]                                                                                                                                                                                                                                                                                                                                                                                                                                                                                                                       </td></tr>\n",
       "<tr><td>tia/config.py    </td><td>[1, 2, 3, 5, 8, 9, 12, 25, 30, 17, 18, 20, 22, 17, 18, 20, 21, 17, 18, 19, 26, 27, 26, 27, 31, 32, 33, 34, 35, 36, 37, 38, 39, 40, 41, 42, 44, 45, 46, 47, 51, 52, 53, 26, 27, 31, 32, 33, 34, 35, 36, 37, 38, 39, 40, 41, 42, 44, 45, 46, 47, 51, 52, 53, 26, 27, 31, 32, 33, 34, 35, 36, 37, 38, 39, 40, 41, 42, 44, 45, 46, 47, 51, 52, 53, 26, 27, 31, 32, 33, 34, 35, 36, 37, 38, 39, 40, 41, 42, 44, 45, 46, 47, 51, 52, 53, 26, 27, 31, 32, 33, 34, 35, 36, 37, 38, 39, 40, 41, 42, 44, 45, 46, 47, 51, 52, 54, 55]</td></tr>\n",
       "<tr><td>tia/env.py       </td><td>[7, 10, 20, 27, 34, 41, 48, 55, 62, 69, 76, 83, 90, 12, 23, 24, 91, 92, 15, 94, 30, 31, 37, 38, 44, 45, 51, 52, 13, 58, 59, 65, 66, 72, 73, 79, 80, 14, 86, 87, 12, 23, 24, 91, 94, 30, 31, 37, 38, 44, 45, 51, 52, 13, 58, 59, 65, 66, 72, 73, 79, 80, 14, 86, 87, 17]                                                                                                                                                                                                                                                   </td></tr>\n",
       "</tbody>\n",
       "</table>"
      ],
      "text/plain": [
       "[FileCoverage(production_code='tia/__init__.py', covered_lines=[1]), FileCoverage(production_code='tia/config.py', covered_lines=[1, 2, 3, 5, 8, 9, 12, 25, 30, 17, 18, 20, 22, 17, 18, 20, 21, 17, 18, 19, 26, 27, 26, 27, 31, 32, 33, 34, 35, 36, 37, 38, 39, 40, 41, 42, 44, 45, 46, 47, 51, 52, 53, 26, 27, 31, 32, 33, 34, 35, 36, 37, 38, 39, 40, 41, 42, 44, 45, 46, 47, 51, 52, 53, 26, 27, 31, 32, 33, 34, 35, 36, 37, 38, 39, 40, 41, 42, 44, 45, 46, 47, 51, 52, 53, 26, 27, 31, 32, 33, 34, 35, 36, 37, 38, 39, 40, 41, 42, 44, ...]), FileCoverage(production_code='tia/env.py', covered_lines=[7, 10, 20, 27, 34, 41, 48, 55, 62, 69, 76, 83, 90, 12, 23, 24, 91, 92, 15, 94, 30, 31, 37, 38, 44, 45, 51, 52, 13, 58, 59, 65, 66, 72, 73, 79, 80, 14, 86, 87, 12, 23, 24, 91, 94, 30, 31, 37, 38, 44, 45, 51, 52, 13, 58, 59, 65, 66, 72, 73, 79, 80, 14, 86, 87, 17])]"
      ]
     },
     "execution_count": 12,
     "metadata": {},
     "output_type": "execute_result"
    }
   ],
   "source": [
    "production_files = ['tia/__init__.py', 'tia/config.py', 'tia/env.py']\n",
    "# explicit caching required here if file_table and line_table are not cached before, otherwise get_covered_lines raises \"IndexError: list index out of range\"\n",
    "file_coverages = get_covered_lines(file_table, line_table, production_files)\n",
    "assert type(file_coverages) == Sequence\n",
    "file_coverages"
   ]
  }
 ],
 "metadata": {
  "kernelspec": {
   "display_name": "Python 3",
   "language": "python",
   "name": "python3"
  },
  "language_info": {
   "codemirror_mode": {
    "name": "ipython",
    "version": 3
   },
   "file_extension": ".py",
   "mimetype": "text/x-python",
   "name": "python",
   "nbconvert_exporter": "python",
   "pygments_lexer": "ipython3",
   "version": "3.6.6"
  }
 },
 "nbformat": 4,
 "nbformat_minor": 2
}
