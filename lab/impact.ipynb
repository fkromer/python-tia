{
 "cells": [
  {
   "cell_type": "code",
   "execution_count": 1,
   "metadata": {},
   "outputs": [],
   "source": [
    "from typing import NamedTuple, Iterator\n",
    "\n",
    "from tia.cov import (\n",
    "    database_cursor,\n",
    "    get_file_table,\n",
    "    get_context_table,\n",
    "    get_line_table,\n",
    "    FileTableRow,\n",
    "    ContextTableRow,\n",
    "    LineTableRow,\n",
    ")"
   ]
  },
  {
   "cell_type": "code",
   "execution_count": 2,
   "metadata": {},
   "outputs": [],
   "source": [
    "Id = int\n",
    "Ids = Iterator[Id]\n",
    "\n",
    "FilePath = str\n",
    "FilePaths = Iterator[FilePath]\n",
    "\n",
    "TestName = str\n",
    "TestNames = Iterator[TestName]\n",
    "\n",
    "\n",
    "class CoverageMapSingle(NamedTuple):\n",
    "    \"\"\"\n",
    "    File based coverage map (not line based w.r.t. production code functions)\n",
    "    of single test name to potentially multiple production code files.\n",
    "    \"\"\"\n",
    "    test: TestName\n",
    "    production_code: FilePaths\n",
    "\n",
    "\n",
    "CoverageMap = Iterator[CoverageMapSingle]\n",
    "# File based coverage map (not line based) of test names to potentially multiple production code files per test name.\n",
    "\n",
    "\n",
    "class ImpactMapSingle(NamedTuple):\n",
    "    \"\"\"\n",
    "    File based impact map (not line based w.r.t. test code functions)\n",
    "    of single production code file to potentially multiple test names\n",
    "    \"\"\"\n",
    "    production_code: File\n",
    "    tests: TestNames\n",
    "\n",
    "\n",
    "ImpactMap = Iterator[ImpactMapSingle]\n",
    "# File based impact map (not line based) of production code files to potentially multiple test names per production code file."
   ]
  },
  {
   "cell_type": "code",
   "execution_count": 3,
   "metadata": {},
   "outputs": [
    {
     "data": {
      "text/plain": [
       "[FileTableRow(file_id=1, path='/home/fk/github/python-tia/tia/__init__.py'),\n",
       " FileTableRow(file_id=2, path='/home/fk/github/python-tia/tia/config.py'),\n",
       " FileTableRow(file_id=3, path='/home/fk/github/python-tia/tia/env.py')]"
      ]
     },
     "execution_count": 3,
     "metadata": {},
     "output_type": "execute_result"
    }
   ],
   "source": [
    "with database_cursor('../tests/data/.coverage') as cursor:\n",
    "    production_file_list = [row for row in get_file_table(cursor)]\n",
    "production_file_list"
   ]
  },
  {
   "cell_type": "code",
   "execution_count": 4,
   "metadata": {},
   "outputs": [],
   "source": [
    "def get_file_ids(file_table: Iterator[FileTableRow], file_paths: FilePath) -> Ids:\n",
    "    # return single element content of generator instead of whole generator\n",
    "    for file_id, path in file_table:\n",
    "        for file_path in file_paths:\n",
    "            if file_path == path:\n",
    "                yield file_id"
   ]
  },
  {
   "cell_type": "code",
   "execution_count": 5,
   "metadata": {},
   "outputs": [
    {
     "data": {
      "text/plain": [
       "[2, 3]"
      ]
     },
     "execution_count": 5,
     "metadata": {},
     "output_type": "execute_result"
    }
   ],
   "source": [
    "with database_cursor('../tests/data/.coverage') as cursor:\n",
    "    file_table_rows = get_file_table(cursor)\n",
    "    file_id_list = [file_id for file_id in get_file_ids(file_table_rows, ['/home/fk/github/python-tia/tia/config.py', '/home/fk/github/python-tia/tia/env.py'])]\n",
    "file_id_list"
   ]
  },
  {
   "cell_type": "code",
   "execution_count": 6,
   "metadata": {},
   "outputs": [],
   "source": [
    "# Making this Iterator[int] -> Iterator[Iterator[int]] probably no good idea.\n",
    "def get_context_ids(line_table: Iterator[LineTableRow], prod_file_id: Id) -> Ids:\n",
    "    already_seen_contexts = set()\n",
    "    for file_id, context_id, _ in line_table:\n",
    "        if file_id == prod_file_id:\n",
    "            if context_id not in already_seen_contexts:\n",
    "                already_seen_contexts.add(context_id)\n",
    "                yield context_id"
   ]
  },
  {
   "cell_type": "code",
   "execution_count": 7,
   "metadata": {},
   "outputs": [
    {
     "name": "stdout",
     "output_type": "stream",
     "text": [
      "[1, 2, 3, 4, 5, 6, 7, 8, 9, 10]\n",
      "[1, 11, 12]\n"
     ]
    }
   ],
   "source": [
    "with database_cursor('../tests/data/.coverage') as cursor:\n",
    "    #\n",
    "    file_table_rows = get_file_table(cursor)\n",
    "    production_file_ids = get_file_ids(file_table_rows, ['/home/fk/github/python-tia/tia/config.py', '/home/fk/github/python-tia/tia/env.py'])\n",
    "    #\n",
    "    for production_file_id in production_file_ids:\n",
    "        line_table = get_line_table(cursor)\n",
    "        context_ids = [id for id in get_context_ids(line_table, production_file_id)]\n",
    "        print(context_ids)"
   ]
  },
  {
   "cell_type": "code",
   "execution_count": 8,
   "metadata": {},
   "outputs": [],
   "source": [
    "def get_test_name(context_table: Iterator[ContextTableRow], test_context_ids: Ids) -> TestNames:\n",
    "    for context_id, context in context_table:\n",
    "        for test_id in test_context_ids:\n",
    "            if context_id == test_id:\n",
    "                yield context"
   ]
  },
  {
   "cell_type": "code",
   "execution_count": 9,
   "metadata": {},
   "outputs": [
    {
     "name": "stdout",
     "output_type": "stream",
     "text": [
      "['/home/fk/github/python-tia/tia/config.py', '/home/fk/github/python-tia/tia/env.py']\n",
      "[1, 2, 3, 4, 5, 6, 7, 8, 9, 10]\n",
      "['', 'test_reading_existing_valid_config_file_returns_string', 'test_reading_existing_invalid_config_file_raises_error', 'test_reading_non_existing_config_file_raises_exception', 'test_read_valid_parent_key_config', 'test_read_valid_explicit_full_blown_pipelines_config', 'test_read_valid_implicit_full_blown_pipelines_config', 'test_read_valid_single_pipeline_with_dirs_only_config', 'test_read_valid_single_pipeline_with_files_only_config', 'test_read_invalid_pipelines_config']\n",
      "['/home/fk/github/python-tia/tia/config.py', '/home/fk/github/python-tia/tia/env.py']\n",
      "[1, 11, 12]\n",
      "['', 'test_is_some_ci', 'test_is_no_ci']\n"
     ]
    }
   ],
   "source": [
    "# impact mappping from changed production code files to impacted tests\n",
    "changed_production_code = ['/home/fk/github/python-tia/tia/config.py', '/home/fk/github/python-tia/tia/env.py']\n",
    "with database_cursor('../tests/data/.coverage') as cursor:\n",
    "\n",
    "    file_table_rows = get_file_table(cursor)\n",
    "    production_file_ids = get_file_ids(file_table_rows, changed_production_code)\n",
    "\n",
    "    for production_file_id in production_file_ids:\n",
    "        line_table = get_line_table(cursor)\n",
    "        context_ids = [id for id in get_context_ids(line_table, production_file_id)]\n",
    "\n",
    "        context_table = get_context_table(cursor)\n",
    "        test_names = [test for test in get_test_name(context_table, context_ids)]\n",
    "        print(changed_production_code)\n",
    "        print(context_ids)\n",
    "        print(test_names)\n",
    "        # '' in test names due to ContextTableRow(context_id=1, context='') -> determined by coverage.py (dynamic context)"
   ]
  }
 ],
 "metadata": {
  "kernelspec": {
   "display_name": "Python 3",
   "language": "python",
   "name": "python3"
  },
  "language_info": {
   "codemirror_mode": {
    "name": "ipython",
    "version": 3
   },
   "file_extension": ".py",
   "mimetype": "text/x-python",
   "name": "python",
   "nbconvert_exporter": "python",
   "pygments_lexer": "ipython3",
   "version": "3.6.6"
  }
 },
 "nbformat": 4,
 "nbformat_minor": 2
}
