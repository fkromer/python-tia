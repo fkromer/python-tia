{
 "cells": [
  {
   "cell_type": "code",
   "execution_count": 1,
   "metadata": {},
   "outputs": [],
   "source": [
    "import parso"
   ]
  },
  {
   "cell_type": "code",
   "execution_count": 2,
   "metadata": {},
   "outputs": [
    {
     "name": "stdout",
     "output_type": "stream",
     "text": [
      "Module starts at line index: 1\n",
      "Module ends at line index: 23\n"
     ]
    }
   ],
   "source": [
    "module_content = \"\"\"import foo\n",
    "import bar.baz\n",
    "from blub import bla\n",
    "\n",
    "\n",
    "class Reverse:\n",
    "    def __init__(self, data):\n",
    "        self.data = data\n",
    "        self.index = len(data)\n",
    "\n",
    "    def __iter__(self):\n",
    "        return self\n",
    "\n",
    "    def __next__(self):\n",
    "        if self.index == 0:\n",
    "            raise StopIteration\n",
    "        self.index = self.index - 1\n",
    "        return self.data[self.index]\n",
    "\n",
    "\n",
    "def reverse(data):\n",
    "    for index in range(len(data)-1, -1, -1):\n",
    "        yield data[index]\"\"\"\n",
    "\n",
    "def get_module_tree(module_content):\n",
    "    return parso.parse(module_content)\n",
    "\n",
    "tree = get_module_tree(module_content)\n",
    "line_idx = 0\n",
    "print(\"Module starts at line index:\", tree.start_pos[0])\n",
    "print(\"Module ends at line index:\", tree.end_pos[0])"
   ]
  },
  {
   "cell_type": "code",
   "execution_count": 3,
   "metadata": {},
   "outputs": [
    {
     "data": {
      "text/plain": [
       "[('Reverse', 6, 19)]"
      ]
     },
     "execution_count": 3,
     "metadata": {},
     "output_type": "execute_result"
    }
   ],
   "source": [
    "def get_class_definitions(module_tree):\n",
    "    \"\"\"Yields meta data about function definitions in a Python modules parse tree\n",
    "    as tuples (name, start line, end line). end line is empty line following after\n",
    "    the class definition.\"\"\"\n",
    "    line_idx = 0\n",
    "    for c in module_tree.iter_classdefs():\n",
    "        yield (c.name.value, c.start_pos[line_idx], c.end_pos[line_idx])\n",
    "    \n",
    "class_definitions = [c for c in get_class_definitions(tree)]\n",
    "class_definitions"
   ]
  },
  {
   "cell_type": "code",
   "execution_count": 4,
   "metadata": {},
   "outputs": [
    {
     "data": {
      "text/plain": [
       "[('reverse', 21, 23)]"
      ]
     },
     "execution_count": 4,
     "metadata": {},
     "output_type": "execute_result"
    }
   ],
   "source": [
    "def get_function_definitions(module_tree):\n",
    "    \"\"\"Yields meta data about function definitions in a Python modules parse tree\n",
    "    as tuples (name, start line, end line). In comparison to class definitions the\n",
    "    end line index corresponds to the actual last line of the function definition.\"\"\"\n",
    "    line_idx = 0\n",
    "    for f in module_tree.iter_funcdefs():\n",
    "        yield (f.name.value, f.start_pos[line_idx], f.end_pos[line_idx])\n",
    "\n",
    "function_definitions = [c for c in get_function_definitions(tree)]\n",
    "function_definitions"
   ]
  },
  {
   "cell_type": "code",
   "execution_count": 5,
   "metadata": {},
   "outputs": [
    {
     "data": {
      "text/plain": [
       "[<ImportName: import foo@1,0>,\n",
       " <ImportName: import bar.baz@2,0>,\n",
       " <ImportFrom: from blub import bla@3,0>]"
      ]
     },
     "execution_count": 5,
     "metadata": {},
     "output_type": "execute_result"
    }
   ],
   "source": [
    "imports = [i for i in tree.iter_imports()]\n",
    "imports"
   ]
  },
  {
   "cell_type": "code",
   "execution_count": 6,
   "metadata": {},
   "outputs": [],
   "source": [
    "def get_imports(module_tree):\n",
    "    for i in module_tree.iter_imports():\n",
    "        if isinstance(i, parso.python.tree.ImportFrom):\n",
    "            for n in i.get_from_names():\n",
    "                yield n.value\n",
    "        else:\n",
    "            for n in i.get_defined_names():\n",
    "                yield n.value"
   ]
  },
  {
   "cell_type": "code",
   "execution_count": 7,
   "metadata": {},
   "outputs": [
    {
     "data": {
      "text/plain": [
       "['foo', 'bar', 'blub']"
      ]
     },
     "execution_count": 7,
     "metadata": {},
     "output_type": "execute_result"
    }
   ],
   "source": [
    "imports = [i for i in get_imports(tree)]\n",
    "imports"
   ]
  }
 ],
 "metadata": {
  "kernelspec": {
   "display_name": "Python 3",
   "language": "python",
   "name": "python3"
  },
  "language_info": {
   "codemirror_mode": {
    "name": "ipython",
    "version": 3
   },
   "file_extension": ".py",
   "mimetype": "text/x-python",
   "name": "python",
   "nbconvert_exporter": "python",
   "pygments_lexer": "ipython3",
   "version": "3.6.7"
  }
 },
 "nbformat": 4,
 "nbformat_minor": 2
}
