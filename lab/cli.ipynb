{
 "cells": [
  {
   "cell_type": "code",
   "execution_count": 148,
   "metadata": {},
   "outputs": [
    {
     "name": "stdout",
     "output_type": "stream",
     "text": [
      "Overwriting cli.py\n"
     ]
    }
   ],
   "source": [
    "%%writefile cli.py\n",
    "\n",
    "from pathlib import Path\n",
    "import click\n",
    "\n",
    "@click.group()\n",
    "@click.option(\n",
    "    '--config-file', '-c',\n",
    "    type=click.Path(resolve_path=True),\n",
    "    default='tia.yml',\n",
    "    help='Configuration file (default: tia.yml).',\n",
    ")\n",
    "def main(config_file):\n",
    "    print(config_file)\n",
    "\n",
    "CONFIGURED_PIPELINES = ('pytest', 'pylint')  # this is a fake, need to be get from ctx (read from config)\n",
    "\n",
    "@main.command(help='Manage test and analyzer tool pipelines. \\\n",
    "If no pipeline is provided with [PIPELINE] configured pipelines are provided on stdout.')\n",
    "@click.argument('pipeline', required=False, type=click.Choice(CONFIGURED_PIPELINES))\n",
    "def pipeline(pipeline):\n",
    "    print('pipeline: ', format(pipeline))\n",
    "\n",
    "@main.command(help='Discover impact of production code on tests. \\\n",
    "If no production code file is provided with [CODE] the whole impact map (production code vs. tests) is provided on stdout.')\n",
    "@click.argument('code', required=False, type=click.Path(resolve_path=True))\n",
    "@click.option('--coverage-database', '-d',\n",
    "              help='Which coverage database shall be used? (Default: .coverage)')\n",
    "def impact(code, coverage_database):\n",
    "    print('Production code file: ', click.format_filename(code))\n",
    "\n",
    "\n",
    "@main.command(help='Discover coverage of production code. \\\n",
    "If no test is provided with [TEST] the whole coverage map (tests vs. production code) is provided on stdout.')\n",
    "@click.argument('test', required=False, type=click.Path(resolve_path=True))\n",
    "@click.option('--coverage-database', '-d',\n",
    "              help='Which coverage database shall be used? (Default: .coverage)')\n",
    "def coverage(test, coverage_database):\n",
    "    print('Test: ', click.format_filename(test))\n",
    "\n",
    "\n",
    "if __name__ == \"__main__\":\n",
    "    main()"
   ]
  },
  {
   "cell_type": "code",
   "execution_count": 144,
   "metadata": {},
   "outputs": [
    {
     "name": "stdout",
     "output_type": "stream",
     "text": [
      "Usage: cli.py [OPTIONS] COMMAND [ARGS]...\n",
      "\n",
      "Options:\n",
      "  -c, --config-file PATH  Configuration file (default: tia.yml).\n",
      "  --help                  Show this message and exit.\n",
      "\n",
      "Commands:\n",
      "  coverage  Discover coverage of production code.\n",
      "  impact    Discover impact of production code on tests.\n",
      "  pipeline  Manage test and analyzer tool pipelines.\n"
     ]
    }
   ],
   "source": [
    "!python3 cli.py"
   ]
  },
  {
   "cell_type": "code",
   "execution_count": 145,
   "metadata": {},
   "outputs": [
    {
     "name": "stdout",
     "output_type": "stream",
     "text": [
      "/home/florian/ws_github/python-tia/lab/tia.yml\n",
      "pipeline:  None\n"
     ]
    }
   ],
   "source": [
    "!python3 cli.py pipeline"
   ]
  },
  {
   "cell_type": "code",
   "execution_count": 146,
   "metadata": {},
   "outputs": [
    {
     "name": "stdout",
     "output_type": "stream",
     "text": [
      "/home/florian/ws_github/python-tia/tests/data/tia.yml\n",
      "pipeline:  None\n"
     ]
    }
   ],
   "source": [
    "!python3 cli.py -c ../tests/data/tia.yml pipeline"
   ]
  },
  {
   "cell_type": "code",
   "execution_count": 115,
   "metadata": {},
   "outputs": [
    {
     "name": "stdout",
     "output_type": "stream",
     "text": [
      "/home/florian/ws_github/python-tia/lab\n",
      "Usage: cli.py coverage [OPTIONS] [TEST]\n",
      "\n",
      "  Discover test coverage of production code. If no test is provided with\n",
      "  [TEST] the whole coverage map (tests vs. production code) is provided on\n",
      "  stdout.\n",
      "\n",
      "Options:\n",
      "  -d, --coverage-database TEXT  Which coverage database shall be used?\n",
      "                                (Default: .coverage)\n",
      "  --help                        Show this message and exit.\n"
     ]
    }
   ],
   "source": [
    "!python3 cli.py coverage --help"
   ]
  },
  {
   "cell_type": "code",
   "execution_count": 116,
   "metadata": {},
   "outputs": [
    {
     "name": "stdout",
     "output_type": "stream",
     "text": [
      "/home/florian/ws_github/python-tia/lab\n",
      "Test:  /home/florian/ws_github/python-tia/lab/foo\n"
     ]
    }
   ],
   "source": [
    "!python3 cli.py coverage foo"
   ]
  },
  {
   "cell_type": "code",
   "execution_count": 117,
   "metadata": {},
   "outputs": [
    {
     "name": "stdout",
     "output_type": "stream",
     "text": [
      "/home/florian/ws_github/python-tia/lab\n",
      "Usage: cli.py impact [OPTIONS] [CODE]\n",
      "\n",
      "  Discover impact of production code on tests. If no production code file is\n",
      "  provided with [CODE] the whole impact map (production code vs. tests) is\n",
      "  provided on stdout.\n",
      "\n",
      "Options:\n",
      "  -d, --coverage-database TEXT  Which coverage database shall be used?\n",
      "                                (Default: .coverage)\n",
      "  --help                        Show this message and exit.\n"
     ]
    }
   ],
   "source": [
    "!python3 cli.py impact --help"
   ]
  },
  {
   "cell_type": "code",
   "execution_count": 118,
   "metadata": {},
   "outputs": [
    {
     "name": "stdout",
     "output_type": "stream",
     "text": [
      "/home/florian/ws_github/python-tia/lab\n",
      "Production code file:  /home/florian/ws_github/python-tia/lab/bar\n"
     ]
    }
   ],
   "source": [
    "!python3 cli.py impact bar"
   ]
  },
  {
   "cell_type": "code",
   "execution_count": 119,
   "metadata": {},
   "outputs": [
    {
     "name": "stdout",
     "output_type": "stream",
     "text": [
      "/home/florian/ws_github/python-tia/lab\n",
      "Usage: cli.py pipeline [OPTIONS] [[pytest|pylint]]\n",
      "\n",
      "  Manage test and analyzer tool pipelines. If no pipeline is provided with\n",
      "  [PIPELINE] configured pipelines are provided on stdout.\n",
      "\n",
      "Options:\n",
      "  --help  Show this message and exit.\n"
     ]
    }
   ],
   "source": [
    "!python3 cli.py pipeline --help"
   ]
  },
  {
   "cell_type": "code",
   "execution_count": 120,
   "metadata": {},
   "outputs": [
    {
     "name": "stdout",
     "output_type": "stream",
     "text": [
      "/home/florian/ws_github/python-tia/lab\n",
      "pipeline:  pytest\n"
     ]
    }
   ],
   "source": [
    "!python3 cli.py pipeline pytest"
   ]
  }
 ],
 "metadata": {
  "kernelspec": {
   "display_name": "python-tia-du-MTb-D",
   "language": "python",
   "name": "python-tia-du-mtb-d"
  },
  "language_info": {
   "codemirror_mode": {
    "name": "ipython",
    "version": 3
   },
   "file_extension": ".py",
   "mimetype": "text/x-python",
   "name": "python",
   "nbconvert_exporter": "python",
   "pygments_lexer": "ipython3",
   "version": "3.6.6"
  }
 },
 "nbformat": 4,
 "nbformat_minor": 2
}
