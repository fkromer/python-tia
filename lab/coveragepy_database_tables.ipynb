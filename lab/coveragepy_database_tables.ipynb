{
 "cells": [
  {
   "cell_type": "code",
   "execution_count": 1,
   "metadata": {},
   "outputs": [],
   "source": [
    "from tia.cov import FileTableRow, ContextTableRow, LineTableRow, get_context_table, get_file_table, get_line_table"
   ]
  },
  {
   "cell_type": "code",
   "execution_count": 2,
   "metadata": {},
   "outputs": [],
   "source": [
    "db_path = '../tests/data/.coverage'"
   ]
  },
  {
   "cell_type": "markdown",
   "metadata": {},
   "source": [
    "# File database table"
   ]
  },
  {
   "cell_type": "code",
   "execution_count": 3,
   "metadata": {},
   "outputs": [],
   "source": [
    "file_table = get_file_table(db_path)"
   ]
  },
  {
   "cell_type": "code",
   "execution_count": 4,
   "metadata": {},
   "outputs": [
    {
     "data": {
      "text/plain": [
       "[FileTableRow(file_id=1, path='/home/fk/github/python-tia/tia/__init__.py'),\n",
       " FileTableRow(file_id=2, path='/home/fk/github/python-tia/tia/config.py'),\n",
       " FileTableRow(file_id=3, path='/home/fk/github/python-tia/tia/env.py')]"
      ]
     },
     "execution_count": 4,
     "metadata": {},
     "output_type": "execute_result"
    }
   ],
   "source": [
    "# conversion to list -> implicit caching of sequence\n",
    "file_table.to_list()"
   ]
  },
  {
   "cell_type": "code",
   "execution_count": 5,
   "metadata": {},
   "outputs": [
    {
     "data": {
      "text/html": [
       "<table>\n",
       "<thead>\n",
       "<tr><th style=\"text-align: right;\">  file_id</th><th>path                                      </th></tr>\n",
       "</thead>\n",
       "<tbody>\n",
       "<tr><td style=\"text-align: right;\">        1</td><td>/home/fk/github/python-tia/tia/__init__.py</td></tr>\n",
       "</tbody>\n",
       "</table>"
      ],
      "text/plain": [
       "[FileTableRow(file_id=1, path='/home/fk/github/python-tia/tia/__init__.py')]"
      ]
     },
     "execution_count": 5,
     "metadata": {},
     "output_type": "execute_result"
    }
   ],
   "source": [
    "# filter files by id\n",
    "file_table.filter(lambda x: x.file_id == 1)"
   ]
  },
  {
   "cell_type": "code",
   "execution_count": 6,
   "metadata": {},
   "outputs": [
    {
     "data": {
      "text/html": [
       "<table>\n",
       "<thead>\n",
       "<tr><th style=\"text-align: right;\">  file_id</th><th>path                                    </th></tr>\n",
       "</thead>\n",
       "<tbody>\n",
       "<tr><td style=\"text-align: right;\">        2</td><td>/home/fk/github/python-tia/tia/config.py</td></tr>\n",
       "</tbody>\n",
       "</table>"
      ],
      "text/plain": [
       "[FileTableRow(file_id=2, path='/home/fk/github/python-tia/tia/config.py')]"
      ]
     },
     "execution_count": 6,
     "metadata": {},
     "output_type": "execute_result"
    }
   ],
   "source": [
    "# filter files by name\n",
    "file_table.filter(lambda x: 'config.py' in x.path)"
   ]
  },
  {
   "cell_type": "markdown",
   "metadata": {},
   "source": [
    "# Context database table"
   ]
  },
  {
   "cell_type": "code",
   "execution_count": 7,
   "metadata": {},
   "outputs": [],
   "source": [
    "context_table = get_context_table(db_path)"
   ]
  },
  {
   "cell_type": "code",
   "execution_count": 8,
   "metadata": {},
   "outputs": [
    {
     "data": {
      "text/plain": [
       "[ContextTableRow(context_id=1, context=''),\n",
       " ContextTableRow(context_id=2, context='test_reading_existing_valid_config_file_returns_string'),\n",
       " ContextTableRow(context_id=3, context='test_reading_existing_invalid_config_file_raises_error'),\n",
       " ContextTableRow(context_id=4, context='test_reading_non_existing_config_file_raises_exception'),\n",
       " ContextTableRow(context_id=5, context='test_read_valid_parent_key_config'),\n",
       " ContextTableRow(context_id=6, context='test_read_valid_explicit_full_blown_pipelines_config'),\n",
       " ContextTableRow(context_id=7, context='test_read_valid_implicit_full_blown_pipelines_config'),\n",
       " ContextTableRow(context_id=8, context='test_read_valid_single_pipeline_with_dirs_only_config'),\n",
       " ContextTableRow(context_id=9, context='test_read_valid_single_pipeline_with_files_only_config'),\n",
       " ContextTableRow(context_id=10, context='test_read_invalid_pipelines_config'),\n",
       " ContextTableRow(context_id=11, context='test_is_some_ci'),\n",
       " ContextTableRow(context_id=12, context='test_is_no_ci'),\n",
       " ContextTableRow(context_id=13, context='testsfailed')]"
      ]
     },
     "execution_count": 8,
     "metadata": {},
     "output_type": "execute_result"
    }
   ],
   "source": [
    "# conversion to list -> implicit caching of sequence\n",
    "context_table.to_list()"
   ]
  },
  {
   "cell_type": "code",
   "execution_count": 9,
   "metadata": {},
   "outputs": [
    {
     "data": {
      "text/html": [
       "<table>\n",
       "<thead>\n",
       "<tr><th style=\"text-align: right;\">  context_id</th><th>context                                               </th></tr>\n",
       "</thead>\n",
       "<tbody>\n",
       "<tr><td style=\"text-align: right;\">           4</td><td>test_reading_non_existing_config_file_raises_exception</td></tr>\n",
       "</tbody>\n",
       "</table>"
      ],
      "text/plain": [
       "[ContextTableRow(context_id=4, context='test_reading_non_existing_config_file_raises_exception')]"
      ]
     },
     "execution_count": 9,
     "metadata": {},
     "output_type": "execute_result"
    }
   ],
   "source": [
    "# filter contexts by id\n",
    "context_table.filter(lambda x: x.context_id == 4)"
   ]
  },
  {
   "cell_type": "code",
   "execution_count": 10,
   "metadata": {},
   "outputs": [
    {
     "data": {
      "text/html": [
       "<table>\n",
       "<thead>\n",
       "<tr><th style=\"text-align: right;\">  context_id</th><th>context                                               </th></tr>\n",
       "</thead>\n",
       "<tbody>\n",
       "<tr><td style=\"text-align: right;\">           4</td><td>test_reading_non_existing_config_file_raises_exception</td></tr>\n",
       "</tbody>\n",
       "</table>"
      ],
      "text/plain": [
       "[ContextTableRow(context_id=4, context='test_reading_non_existing_config_file_raises_exception')]"
      ]
     },
     "execution_count": 10,
     "metadata": {},
     "output_type": "execute_result"
    }
   ],
   "source": [
    "# filter contexts by name\n",
    "context_table.filter(lambda x: 'test_reading_non_existing_config_file_raises_exception' in x.context)"
   ]
  },
  {
   "cell_type": "markdown",
   "metadata": {},
   "source": [
    "# Line database table"
   ]
  },
  {
   "cell_type": "code",
   "execution_count": 11,
   "metadata": {},
   "outputs": [],
   "source": [
    "line_table = get_line_table(db_path)"
   ]
  },
  {
   "cell_type": "code",
   "execution_count": 12,
   "metadata": {},
   "outputs": [
    {
     "data": {
      "text/plain": [
       "[LineTableRow(file_id=1, context_id=1, lineno=1),\n",
       " LineTableRow(file_id=2, context_id=1, lineno=1),\n",
       " LineTableRow(file_id=2, context_id=1, lineno=2),\n",
       " LineTableRow(file_id=2, context_id=1, lineno=3),\n",
       " LineTableRow(file_id=2, context_id=1, lineno=5),\n",
       " LineTableRow(file_id=2, context_id=1, lineno=8),\n",
       " LineTableRow(file_id=2, context_id=1, lineno=9),\n",
       " LineTableRow(file_id=2, context_id=1, lineno=12),\n",
       " LineTableRow(file_id=2, context_id=1, lineno=25),\n",
       " LineTableRow(file_id=2, context_id=1, lineno=30),\n",
       " LineTableRow(file_id=3, context_id=1, lineno=7),\n",
       " LineTableRow(file_id=3, context_id=1, lineno=10),\n",
       " LineTableRow(file_id=3, context_id=1, lineno=20),\n",
       " LineTableRow(file_id=3, context_id=1, lineno=27),\n",
       " LineTableRow(file_id=3, context_id=1, lineno=34),\n",
       " LineTableRow(file_id=3, context_id=1, lineno=41),\n",
       " LineTableRow(file_id=3, context_id=1, lineno=48),\n",
       " LineTableRow(file_id=3, context_id=1, lineno=55),\n",
       " LineTableRow(file_id=3, context_id=1, lineno=62),\n",
       " LineTableRow(file_id=3, context_id=1, lineno=69),\n",
       " LineTableRow(file_id=3, context_id=1, lineno=76),\n",
       " LineTableRow(file_id=3, context_id=1, lineno=83),\n",
       " LineTableRow(file_id=3, context_id=1, lineno=90),\n",
       " LineTableRow(file_id=2, context_id=2, lineno=17),\n",
       " LineTableRow(file_id=2, context_id=2, lineno=18),\n",
       " LineTableRow(file_id=2, context_id=2, lineno=20),\n",
       " LineTableRow(file_id=2, context_id=2, lineno=22),\n",
       " LineTableRow(file_id=2, context_id=3, lineno=17),\n",
       " LineTableRow(file_id=2, context_id=3, lineno=18),\n",
       " LineTableRow(file_id=2, context_id=3, lineno=20),\n",
       " LineTableRow(file_id=2, context_id=3, lineno=21),\n",
       " LineTableRow(file_id=2, context_id=4, lineno=17),\n",
       " LineTableRow(file_id=2, context_id=4, lineno=18),\n",
       " LineTableRow(file_id=2, context_id=4, lineno=19),\n",
       " LineTableRow(file_id=2, context_id=5, lineno=26),\n",
       " LineTableRow(file_id=2, context_id=5, lineno=27),\n",
       " LineTableRow(file_id=2, context_id=6, lineno=26),\n",
       " LineTableRow(file_id=2, context_id=6, lineno=27),\n",
       " LineTableRow(file_id=2, context_id=6, lineno=31),\n",
       " LineTableRow(file_id=2, context_id=6, lineno=32),\n",
       " LineTableRow(file_id=2, context_id=6, lineno=33),\n",
       " LineTableRow(file_id=2, context_id=6, lineno=34),\n",
       " LineTableRow(file_id=2, context_id=6, lineno=35),\n",
       " LineTableRow(file_id=2, context_id=6, lineno=36),\n",
       " LineTableRow(file_id=2, context_id=6, lineno=37),\n",
       " LineTableRow(file_id=2, context_id=6, lineno=38),\n",
       " LineTableRow(file_id=2, context_id=6, lineno=39),\n",
       " LineTableRow(file_id=2, context_id=6, lineno=40),\n",
       " LineTableRow(file_id=2, context_id=6, lineno=41),\n",
       " LineTableRow(file_id=2, context_id=6, lineno=42),\n",
       " LineTableRow(file_id=2, context_id=6, lineno=44),\n",
       " LineTableRow(file_id=2, context_id=6, lineno=45),\n",
       " LineTableRow(file_id=2, context_id=6, lineno=46),\n",
       " LineTableRow(file_id=2, context_id=6, lineno=47),\n",
       " LineTableRow(file_id=2, context_id=6, lineno=51),\n",
       " LineTableRow(file_id=2, context_id=6, lineno=52),\n",
       " LineTableRow(file_id=2, context_id=6, lineno=53),\n",
       " LineTableRow(file_id=2, context_id=7, lineno=26),\n",
       " LineTableRow(file_id=2, context_id=7, lineno=27),\n",
       " LineTableRow(file_id=2, context_id=7, lineno=31),\n",
       " LineTableRow(file_id=2, context_id=7, lineno=32),\n",
       " LineTableRow(file_id=2, context_id=7, lineno=33),\n",
       " LineTableRow(file_id=2, context_id=7, lineno=34),\n",
       " LineTableRow(file_id=2, context_id=7, lineno=35),\n",
       " LineTableRow(file_id=2, context_id=7, lineno=36),\n",
       " LineTableRow(file_id=2, context_id=7, lineno=37),\n",
       " LineTableRow(file_id=2, context_id=7, lineno=38),\n",
       " LineTableRow(file_id=2, context_id=7, lineno=39),\n",
       " LineTableRow(file_id=2, context_id=7, lineno=40),\n",
       " LineTableRow(file_id=2, context_id=7, lineno=41),\n",
       " LineTableRow(file_id=2, context_id=7, lineno=42),\n",
       " LineTableRow(file_id=2, context_id=7, lineno=44),\n",
       " LineTableRow(file_id=2, context_id=7, lineno=45),\n",
       " LineTableRow(file_id=2, context_id=7, lineno=46),\n",
       " LineTableRow(file_id=2, context_id=7, lineno=47),\n",
       " LineTableRow(file_id=2, context_id=7, lineno=51),\n",
       " LineTableRow(file_id=2, context_id=7, lineno=52),\n",
       " LineTableRow(file_id=2, context_id=7, lineno=53),\n",
       " LineTableRow(file_id=2, context_id=8, lineno=26),\n",
       " LineTableRow(file_id=2, context_id=8, lineno=27),\n",
       " LineTableRow(file_id=2, context_id=8, lineno=31),\n",
       " LineTableRow(file_id=2, context_id=8, lineno=32),\n",
       " LineTableRow(file_id=2, context_id=8, lineno=33),\n",
       " LineTableRow(file_id=2, context_id=8, lineno=34),\n",
       " LineTableRow(file_id=2, context_id=8, lineno=35),\n",
       " LineTableRow(file_id=2, context_id=8, lineno=36),\n",
       " LineTableRow(file_id=2, context_id=8, lineno=37),\n",
       " LineTableRow(file_id=2, context_id=8, lineno=38),\n",
       " LineTableRow(file_id=2, context_id=8, lineno=39),\n",
       " LineTableRow(file_id=2, context_id=8, lineno=40),\n",
       " LineTableRow(file_id=2, context_id=8, lineno=41),\n",
       " LineTableRow(file_id=2, context_id=8, lineno=42),\n",
       " LineTableRow(file_id=2, context_id=8, lineno=44),\n",
       " LineTableRow(file_id=2, context_id=8, lineno=45),\n",
       " LineTableRow(file_id=2, context_id=8, lineno=46),\n",
       " LineTableRow(file_id=2, context_id=8, lineno=47),\n",
       " LineTableRow(file_id=2, context_id=8, lineno=51),\n",
       " LineTableRow(file_id=2, context_id=8, lineno=52),\n",
       " LineTableRow(file_id=2, context_id=8, lineno=53),\n",
       " LineTableRow(file_id=2, context_id=9, lineno=26),\n",
       " LineTableRow(file_id=2, context_id=9, lineno=27),\n",
       " LineTableRow(file_id=2, context_id=9, lineno=31),\n",
       " LineTableRow(file_id=2, context_id=9, lineno=32),\n",
       " LineTableRow(file_id=2, context_id=9, lineno=33),\n",
       " LineTableRow(file_id=2, context_id=9, lineno=34),\n",
       " LineTableRow(file_id=2, context_id=9, lineno=35),\n",
       " LineTableRow(file_id=2, context_id=9, lineno=36),\n",
       " LineTableRow(file_id=2, context_id=9, lineno=37),\n",
       " LineTableRow(file_id=2, context_id=9, lineno=38),\n",
       " LineTableRow(file_id=2, context_id=9, lineno=39),\n",
       " LineTableRow(file_id=2, context_id=9, lineno=40),\n",
       " LineTableRow(file_id=2, context_id=9, lineno=41),\n",
       " LineTableRow(file_id=2, context_id=9, lineno=42),\n",
       " LineTableRow(file_id=2, context_id=9, lineno=44),\n",
       " LineTableRow(file_id=2, context_id=9, lineno=45),\n",
       " LineTableRow(file_id=2, context_id=9, lineno=46),\n",
       " LineTableRow(file_id=2, context_id=9, lineno=47),\n",
       " LineTableRow(file_id=2, context_id=9, lineno=51),\n",
       " LineTableRow(file_id=2, context_id=9, lineno=52),\n",
       " LineTableRow(file_id=2, context_id=9, lineno=53),\n",
       " LineTableRow(file_id=2, context_id=10, lineno=26),\n",
       " LineTableRow(file_id=2, context_id=10, lineno=27),\n",
       " LineTableRow(file_id=2, context_id=10, lineno=31),\n",
       " LineTableRow(file_id=2, context_id=10, lineno=32),\n",
       " LineTableRow(file_id=2, context_id=10, lineno=33),\n",
       " LineTableRow(file_id=2, context_id=10, lineno=34),\n",
       " LineTableRow(file_id=2, context_id=10, lineno=35),\n",
       " LineTableRow(file_id=2, context_id=10, lineno=36),\n",
       " LineTableRow(file_id=2, context_id=10, lineno=37),\n",
       " LineTableRow(file_id=2, context_id=10, lineno=38),\n",
       " LineTableRow(file_id=2, context_id=10, lineno=39),\n",
       " LineTableRow(file_id=2, context_id=10, lineno=40),\n",
       " LineTableRow(file_id=2, context_id=10, lineno=41),\n",
       " LineTableRow(file_id=2, context_id=10, lineno=42),\n",
       " LineTableRow(file_id=2, context_id=10, lineno=44),\n",
       " LineTableRow(file_id=2, context_id=10, lineno=45),\n",
       " LineTableRow(file_id=2, context_id=10, lineno=46),\n",
       " LineTableRow(file_id=2, context_id=10, lineno=47),\n",
       " LineTableRow(file_id=2, context_id=10, lineno=51),\n",
       " LineTableRow(file_id=2, context_id=10, lineno=52),\n",
       " LineTableRow(file_id=2, context_id=10, lineno=54),\n",
       " LineTableRow(file_id=2, context_id=10, lineno=55),\n",
       " LineTableRow(file_id=3, context_id=11, lineno=12),\n",
       " LineTableRow(file_id=3, context_id=11, lineno=23),\n",
       " LineTableRow(file_id=3, context_id=11, lineno=24),\n",
       " LineTableRow(file_id=3, context_id=11, lineno=91),\n",
       " LineTableRow(file_id=3, context_id=11, lineno=92),\n",
       " LineTableRow(file_id=3, context_id=11, lineno=15),\n",
       " LineTableRow(file_id=3, context_id=11, lineno=94),\n",
       " LineTableRow(file_id=3, context_id=11, lineno=30),\n",
       " LineTableRow(file_id=3, context_id=11, lineno=31),\n",
       " LineTableRow(file_id=3, context_id=11, lineno=37),\n",
       " LineTableRow(file_id=3, context_id=11, lineno=38),\n",
       " LineTableRow(file_id=3, context_id=11, lineno=44),\n",
       " LineTableRow(file_id=3, context_id=11, lineno=45),\n",
       " LineTableRow(file_id=3, context_id=11, lineno=51),\n",
       " LineTableRow(file_id=3, context_id=11, lineno=52),\n",
       " LineTableRow(file_id=3, context_id=11, lineno=13),\n",
       " LineTableRow(file_id=3, context_id=11, lineno=58),\n",
       " LineTableRow(file_id=3, context_id=11, lineno=59),\n",
       " LineTableRow(file_id=3, context_id=11, lineno=65),\n",
       " LineTableRow(file_id=3, context_id=11, lineno=66),\n",
       " LineTableRow(file_id=3, context_id=11, lineno=72),\n",
       " LineTableRow(file_id=3, context_id=11, lineno=73),\n",
       " LineTableRow(file_id=3, context_id=11, lineno=79),\n",
       " LineTableRow(file_id=3, context_id=11, lineno=80),\n",
       " LineTableRow(file_id=3, context_id=11, lineno=14),\n",
       " LineTableRow(file_id=3, context_id=11, lineno=86),\n",
       " LineTableRow(file_id=3, context_id=11, lineno=87),\n",
       " LineTableRow(file_id=3, context_id=12, lineno=12),\n",
       " LineTableRow(file_id=3, context_id=12, lineno=23),\n",
       " LineTableRow(file_id=3, context_id=12, lineno=24),\n",
       " LineTableRow(file_id=3, context_id=12, lineno=91),\n",
       " LineTableRow(file_id=3, context_id=12, lineno=94),\n",
       " LineTableRow(file_id=3, context_id=12, lineno=30),\n",
       " LineTableRow(file_id=3, context_id=12, lineno=31),\n",
       " LineTableRow(file_id=3, context_id=12, lineno=37),\n",
       " LineTableRow(file_id=3, context_id=12, lineno=38),\n",
       " LineTableRow(file_id=3, context_id=12, lineno=44),\n",
       " LineTableRow(file_id=3, context_id=12, lineno=45),\n",
       " LineTableRow(file_id=3, context_id=12, lineno=51),\n",
       " LineTableRow(file_id=3, context_id=12, lineno=52),\n",
       " LineTableRow(file_id=3, context_id=12, lineno=13),\n",
       " LineTableRow(file_id=3, context_id=12, lineno=58),\n",
       " LineTableRow(file_id=3, context_id=12, lineno=59),\n",
       " LineTableRow(file_id=3, context_id=12, lineno=65),\n",
       " LineTableRow(file_id=3, context_id=12, lineno=66),\n",
       " LineTableRow(file_id=3, context_id=12, lineno=72),\n",
       " LineTableRow(file_id=3, context_id=12, lineno=73),\n",
       " LineTableRow(file_id=3, context_id=12, lineno=79),\n",
       " LineTableRow(file_id=3, context_id=12, lineno=80),\n",
       " LineTableRow(file_id=3, context_id=12, lineno=14),\n",
       " LineTableRow(file_id=3, context_id=12, lineno=86),\n",
       " LineTableRow(file_id=3, context_id=12, lineno=87),\n",
       " LineTableRow(file_id=3, context_id=12, lineno=17)]"
      ]
     },
     "execution_count": 12,
     "metadata": {},
     "output_type": "execute_result"
    }
   ],
   "source": [
    "# conversion to list -> implicit caching of sequence\n",
    "line_table.to_list()"
   ]
  },
  {
   "cell_type": "code",
   "execution_count": 13,
   "metadata": {},
   "outputs": [
    {
     "data": {
      "text/html": [
       "<table>\n",
       "<thead>\n",
       "<tr><th style=\"text-align: right;\">  file_id</th><th style=\"text-align: right;\">  context_id</th><th style=\"text-align: right;\">  lineno</th></tr>\n",
       "</thead>\n",
       "<tbody>\n",
       "<tr><td style=\"text-align: right;\">        2</td><td style=\"text-align: right;\">           1</td><td style=\"text-align: right;\">       1</td></tr>\n",
       "<tr><td style=\"text-align: right;\">        2</td><td style=\"text-align: right;\">           1</td><td style=\"text-align: right;\">       2</td></tr>\n",
       "<tr><td style=\"text-align: right;\">        2</td><td style=\"text-align: right;\">           1</td><td style=\"text-align: right;\">       3</td></tr>\n",
       "<tr><td style=\"text-align: right;\">        2</td><td style=\"text-align: right;\">           1</td><td style=\"text-align: right;\">       5</td></tr>\n",
       "<tr><td style=\"text-align: right;\">        2</td><td style=\"text-align: right;\">           1</td><td style=\"text-align: right;\">       8</td></tr>\n",
       "<tr><td style=\"text-align: right;\">        2</td><td style=\"text-align: right;\">           1</td><td style=\"text-align: right;\">       9</td></tr>\n",
       "<tr><td style=\"text-align: right;\">        2</td><td style=\"text-align: right;\">           1</td><td style=\"text-align: right;\">      12</td></tr>\n",
       "<tr><td style=\"text-align: right;\">        2</td><td style=\"text-align: right;\">           1</td><td style=\"text-align: right;\">      25</td></tr>\n",
       "<tr><td style=\"text-align: right;\">        2</td><td style=\"text-align: right;\">           1</td><td style=\"text-align: right;\">      30</td></tr>\n",
       "<tr><td style=\"text-align: right;\">        2</td><td style=\"text-align: right;\">           2</td><td style=\"text-align: right;\">      17</td></tr>\n",
       "</tbody>\n",
       "</table><p>Showing 10 of 128 rows"
      ],
      "text/plain": [
       "[LineTableRow(file_id=2, context_id=1, lineno=1), LineTableRow(file_id=2, context_id=1, lineno=2), LineTableRow(file_id=2, context_id=1, lineno=3), LineTableRow(file_id=2, context_id=1, lineno=5), LineTableRow(file_id=2, context_id=1, lineno=8), LineTableRow(file_id=2, context_id=1, lineno=9), LineTableRow(file_id=2, context_id=1, lineno=12), LineTableRow(file_id=2, context_id=1, lineno=25), LineTableRow(file_id=2, context_id=1, lineno=30), LineTableRow(file_id=2, context_id=2, lineno=17), LineTableRow(file_id=2, context_id=2, lineno=18), LineTableRow(file_id=2, context_id=2, lineno=20), LineTableRow(file_id=2, context_id=2, lineno=22), LineTableRow(file_id=2, context_id=3, lineno=17), LineTableRow(file_id=2, context_id=3, lineno=18), LineTableRow(file_id=2, context_id=3, lineno=20), LineTableRow(file_id=2, context_id=3, lineno=21), LineTableRow(file_id=2, context_id=4, lineno=17), LineTableRow(file_id=2, context_id=4, lineno=18), LineTableRow(file_id=2, context_id=4, lineno=19), LineTableRow(file_id=2, context_id=5, lineno=26), LineTableRow(file_id=2, context_id=5, lineno=27), LineTableRow(file_id=2, context_id=6, lineno=26), LineTableRow(file_id=2, context_id=6, lineno=27), LineTableRow(file_id=2, context_id=6, lineno=31), LineTableRow(file_id=2, context_id=6, lineno=32), LineTableRow(file_id=2, context_id=6, lineno=33), LineTableRow(file_id=2, context_id=6, lineno=34), LineTableRow(file_id=2, context_id=6, lineno=35), LineTableRow(file_id=2, context_id=6, lineno=36), LineTableRow(file_id=2, context_id=6, lineno=37), LineTableRow(file_id=2, context_id=6, lineno=38), LineTableRow(file_id=2, context_id=6, lineno=39), LineTableRow(file_id=2, context_id=6, lineno=40), LineTableRow(file_id=2, context_id=6, lineno=41), LineTableRow(file_id=2, context_id=6, lineno=42), LineTableRow(file_id=2, context_id=6, lineno=44), LineTableRow(file_id=2, context_id=6, lineno=45), LineTableRow(file_id=2, context_id=6, lineno=46), LineTableRow(file_id=2, context_id=6, lineno=47), LineTableRow(file_id=2, context_id=6, lineno=51), LineTableRow(file_id=2, context_id=6, lineno=52), LineTableRow(file_id=2, context_id=6, lineno=53), LineTableRow(file_id=2, context_id=7, lineno=26), LineTableRow(file_id=2, context_id=7, lineno=27), LineTableRow(file_id=2, context_id=7, lineno=31), LineTableRow(file_id=2, context_id=7, lineno=32), LineTableRow(file_id=2, context_id=7, lineno=33), LineTableRow(file_id=2, context_id=7, lineno=34), LineTableRow(file_id=2, context_id=7, lineno=35), LineTableRow(file_id=2, context_id=7, lineno=36), LineTableRow(file_id=2, context_id=7, lineno=37), LineTableRow(file_id=2, context_id=7, lineno=38), LineTableRow(file_id=2, context_id=7, lineno=39), LineTableRow(file_id=2, context_id=7, lineno=40), LineTableRow(file_id=2, context_id=7, lineno=41), LineTableRow(file_id=2, context_id=7, lineno=42), LineTableRow(file_id=2, context_id=7, lineno=44), LineTableRow(file_id=2, context_id=7, lineno=45), LineTableRow(file_id=2, context_id=7, lineno=46), LineTableRow(file_id=2, context_id=7, lineno=47), LineTableRow(file_id=2, context_id=7, lineno=51), LineTableRow(file_id=2, context_id=7, lineno=52), LineTableRow(file_id=2, context_id=7, lineno=53), LineTableRow(file_id=2, context_id=8, lineno=26), LineTableRow(file_id=2, context_id=8, lineno=27), LineTableRow(file_id=2, context_id=8, lineno=31), LineTableRow(file_id=2, context_id=8, lineno=32), LineTableRow(file_id=2, context_id=8, lineno=33), LineTableRow(file_id=2, context_id=8, lineno=34), LineTableRow(file_id=2, context_id=8, lineno=35), LineTableRow(file_id=2, context_id=8, lineno=36), LineTableRow(file_id=2, context_id=8, lineno=37), LineTableRow(file_id=2, context_id=8, lineno=38), LineTableRow(file_id=2, context_id=8, lineno=39), LineTableRow(file_id=2, context_id=8, lineno=40), LineTableRow(file_id=2, context_id=8, lineno=41), LineTableRow(file_id=2, context_id=8, lineno=42), LineTableRow(file_id=2, context_id=8, lineno=44), LineTableRow(file_id=2, context_id=8, lineno=45), LineTableRow(file_id=2, context_id=8, lineno=46), LineTableRow(file_id=2, context_id=8, lineno=47), LineTableRow(file_id=2, context_id=8, lineno=51), LineTableRow(file_id=2, context_id=8, lineno=52), LineTableRow(file_id=2, context_id=8, lineno=53), LineTableRow(file_id=2, context_id=9, lineno=26), LineTableRow(file_id=2, context_id=9, lineno=27), LineTableRow(file_id=2, context_id=9, lineno=31), LineTableRow(file_id=2, context_id=9, lineno=32), LineTableRow(file_id=2, context_id=9, lineno=33), LineTableRow(file_id=2, context_id=9, lineno=34), LineTableRow(file_id=2, context_id=9, lineno=35), LineTableRow(file_id=2, context_id=9, lineno=36), LineTableRow(file_id=2, context_id=9, lineno=37), LineTableRow(file_id=2, context_id=9, lineno=38), LineTableRow(file_id=2, context_id=9, lineno=39), LineTableRow(file_id=2, context_id=9, lineno=40), LineTableRow(file_id=2, context_id=9, lineno=41), LineTableRow(file_id=2, context_id=9, lineno=42), LineTableRow(file_id=2, context_id=9, lineno=44), ...]"
      ]
     },
     "execution_count": 13,
     "metadata": {},
     "output_type": "execute_result"
    }
   ],
   "source": [
    "# filter lines by file id\n",
    "line_table.filter(lambda x: x.file_id == 2)"
   ]
  },
  {
   "cell_type": "code",
   "execution_count": 14,
   "metadata": {},
   "outputs": [
    {
     "data": {
      "text/html": [
       "<table>\n",
       "<thead>\n",
       "<tr><th style=\"text-align: right;\">  file_id</th><th style=\"text-align: right;\">  context_id</th><th style=\"text-align: right;\">  lineno</th></tr>\n",
       "</thead>\n",
       "<tbody>\n",
       "<tr><td style=\"text-align: right;\">        2</td><td style=\"text-align: right;\">           2</td><td style=\"text-align: right;\">      17</td></tr>\n",
       "<tr><td style=\"text-align: right;\">        2</td><td style=\"text-align: right;\">           2</td><td style=\"text-align: right;\">      18</td></tr>\n",
       "<tr><td style=\"text-align: right;\">        2</td><td style=\"text-align: right;\">           2</td><td style=\"text-align: right;\">      20</td></tr>\n",
       "<tr><td style=\"text-align: right;\">        2</td><td style=\"text-align: right;\">           2</td><td style=\"text-align: right;\">      22</td></tr>\n",
       "</tbody>\n",
       "</table>"
      ],
      "text/plain": [
       "[LineTableRow(file_id=2, context_id=2, lineno=17), LineTableRow(file_id=2, context_id=2, lineno=18), LineTableRow(file_id=2, context_id=2, lineno=20), LineTableRow(file_id=2, context_id=2, lineno=22)]"
      ]
     },
     "execution_count": 14,
     "metadata": {},
     "output_type": "execute_result"
    }
   ],
   "source": [
    "# filter lines by context id\n",
    "line_table.filter(lambda x: x.context_id == 2)"
   ]
  },
  {
   "cell_type": "code",
   "execution_count": 15,
   "metadata": {},
   "outputs": [
    {
     "data": {
      "text/html": [
       "<table>\n",
       "<thead>\n",
       "<tr><th style=\"text-align: right;\">  file_id</th><th style=\"text-align: right;\">  context_id</th><th style=\"text-align: right;\">  lineno</th></tr>\n",
       "</thead>\n",
       "<tbody>\n",
       "<tr><td style=\"text-align: right;\">        1</td><td style=\"text-align: right;\">           1</td><td style=\"text-align: right;\">       1</td></tr>\n",
       "<tr><td style=\"text-align: right;\">        2</td><td style=\"text-align: right;\">           1</td><td style=\"text-align: right;\">       1</td></tr>\n",
       "</tbody>\n",
       "</table>"
      ],
      "text/plain": [
       "[LineTableRow(file_id=1, context_id=1, lineno=1), LineTableRow(file_id=2, context_id=1, lineno=1)]"
      ]
     },
     "execution_count": 15,
     "metadata": {},
     "output_type": "execute_result"
    }
   ],
   "source": [
    "# filter lines by line number\n",
    "line_table.filter(lambda x: x.lineno == 1)"
   ]
  }
 ],
 "metadata": {
  "kernelspec": {
   "display_name": "Python 3",
   "language": "python",
   "name": "python3"
  },
  "language_info": {
   "codemirror_mode": {
    "name": "ipython",
    "version": 3
   },
   "file_extension": ".py",
   "mimetype": "text/x-python",
   "name": "python",
   "nbconvert_exporter": "python",
   "pygments_lexer": "ipython3",
   "version": "3.6.6"
  }
 },
 "nbformat": 4,
 "nbformat_minor": 2
}
