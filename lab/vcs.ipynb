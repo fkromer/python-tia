{
 "cells": [
  {
   "cell_type": "code",
   "execution_count": 1,
   "metadata": {},
   "outputs": [],
   "source": [
    "from git import Repo"
   ]
  },
  {
   "cell_type": "code",
   "execution_count": 2,
   "metadata": {},
   "outputs": [],
   "source": [
    "def get_repo(path=\".\"):\n",
    "    repo = Repo(path)\n",
    "    return repo"
   ]
  },
  {
   "cell_type": "code",
   "execution_count": 3,
   "metadata": {},
   "outputs": [],
   "source": [
    "repo = get_repo(\"..\")"
   ]
  },
  {
   "cell_type": "code",
   "execution_count": 4,
   "metadata": {},
   "outputs": [],
   "source": [
    "def get_untracked_files(repo):\n",
    "    for f in repo.untracked_files:\n",
    "        yield f"
   ]
  },
  {
   "cell_type": "code",
   "execution_count": 5,
   "metadata": {},
   "outputs": [],
   "source": [
    "untracked_files = get_untracked_files(repo)"
   ]
  },
  {
   "cell_type": "code",
   "execution_count": 6,
   "metadata": {},
   "outputs": [
    {
     "data": {
      "text/plain": [
       "['Untitled.ipynb', 'existing_db.db', 'lab/vcs.ipynb']"
      ]
     },
     "execution_count": 6,
     "metadata": {},
     "output_type": "execute_result"
    }
   ],
   "source": [
    "list(untracked_files)"
   ]
  },
  {
   "cell_type": "code",
   "execution_count": 7,
   "metadata": {},
   "outputs": [],
   "source": [
    "def changed_staged_files(repo):\n",
    "    \"\"\"\n",
    "    Yields paths of staged files which have been added, modified or renamed.\n",
    "    Files which have been modified and renamed are yielded only once.\n",
    "    \"\"\"\n",
    "    hcommit = repo.head.commit\n",
    "    changes = hcommit.diff()\n",
    "    # TODO: improve performance and get rid of mutable set\n",
    "    files = set()\n",
    "    for f in changes.iter_change_type('A'):\n",
    "        files.add(f.b_path)\n",
    "    for f in changes.iter_change_type('M'):\n",
    "        files.add(f.b_path)\n",
    "    for f in changes.iter_change_type('R'):\n",
    "        files.add(f.b_path)\n",
    "    for f in files:\n",
    "        yield f\n",
    "    del files  # free memory from set"
   ]
  },
  {
   "cell_type": "code",
   "execution_count": 8,
   "metadata": {},
   "outputs": [
    {
     "data": {
      "text/plain": [
       "['Pipfile', 'Pipfile.lock_new']"
      ]
     },
     "execution_count": 8,
     "metadata": {},
     "output_type": "execute_result"
    }
   ],
   "source": [
    "staged_files = changed_staged_files(repo)\n",
    "list(staged_files)"
   ]
  },
  {
   "cell_type": "code",
   "execution_count": 9,
   "metadata": {},
   "outputs": [],
   "source": [
    "def changed_unstaged_files(repo):\n",
    "    \"\"\"\n",
    "    Yields paths of unstaged files (versioned files in working tree)\n",
    "    which have been modified or renamed.\n",
    "    Files which have been modified and renamed are yielded only once.\n",
    "    \"\"\"\n",
    "    changes = repo.index.diff(None)\n",
    "    # TODO: improve performance and get rid of mutable set\n",
    "    files = set()\n",
    "    for f in changes.iter_change_type('M'):\n",
    "        files.add(f.b_path)\n",
    "    for f in changes.iter_change_type('R'):\n",
    "        files.add(f.b_path)\n",
    "    for f in files:\n",
    "        yield f\n",
    "    del files  # free memory from set"
   ]
  },
  {
   "cell_type": "code",
   "execution_count": 10,
   "metadata": {},
   "outputs": [
    {
     "data": {
      "text/plain": [
       "['lab/impact.ipynb']"
      ]
     },
     "execution_count": 10,
     "metadata": {},
     "output_type": "execute_result"
    }
   ],
   "source": [
    "unstaged_files = changed_unstaged_files(repo)\n",
    "list(unstaged_files)"
   ]
  },
  {
   "cell_type": "code",
   "execution_count": 11,
   "metadata": {},
   "outputs": [],
   "source": [
    "def changed_files_non_ci(repo):\n",
    "    \"\"\"\n",
    "    File changes considered for tia invocation not in CI are unstaged and\n",
    "    staged file changes.\n",
    "    \"\"\"\n",
    "    unstaged_files = changed_unstaged_files(repo)\n",
    "    staged_files = changed_staged_files(repo)\n",
    "    yield from unstaged_files\n",
    "    yield from staged_files"
   ]
  },
  {
   "cell_type": "code",
   "execution_count": 12,
   "metadata": {},
   "outputs": [
    {
     "data": {
      "text/plain": [
       "['lab/impact.ipynb', 'Pipfile', 'Pipfile.lock_new']"
      ]
     },
     "execution_count": 12,
     "metadata": {},
     "output_type": "execute_result"
    }
   ],
   "source": [
    "non_ci_files = changed_files_non_ci(repo)\n",
    "list(non_ci_files)"
   ]
  },
  {
   "cell_type": "code",
   "execution_count": 13,
   "metadata": {},
   "outputs": [],
   "source": [
    "def changed_files_ci(repo):\n",
    "    \"\"\"\n",
    "    File changes considered for tia invocation in CI are changed files between\n",
    "    the current HEAD and the last commit.\n",
    "    Yields paths of new, modified and renamed files.\n",
    "    Files which have been modified and renamed are yielded only once.\n",
    "    \"\"\"\n",
    "    hcommit = repo.head.commit\n",
    "    changes = hcommit.diff('HEAD~1')\n",
    "    # TODO: improve performance and get rid of mutable set\n",
    "    files = set()\n",
    "    for f in changes.iter_change_type('A'):\n",
    "        files.add(f.b_path)\n",
    "    for f in changes.iter_change_type('M'):\n",
    "        files.add(f.b_path)\n",
    "    for f in changes.iter_change_type('R'):\n",
    "        files.add(f.b_path)\n",
    "    for f in files:\n",
    "        yield f\n",
    "    del files  # free memory from set"
   ]
  },
  {
   "cell_type": "code",
   "execution_count": 14,
   "metadata": {},
   "outputs": [
    {
     "data": {
      "text/plain": [
       "['tests/test_config.py',\n",
       " 'tia/cov.py',\n",
       " 'tests/test_cov.py',\n",
       " 'tests/test_cli.py',\n",
       " 'tia/cli.py',\n",
       " 'tests/test_env.py',\n",
       " 'tia/config.py',\n",
       " 'setup.py']"
      ]
     },
     "execution_count": 14,
     "metadata": {},
     "output_type": "execute_result"
    }
   ],
   "source": [
    "ci_files = changed_files_ci(repo)\n",
    "list(ci_files)"
   ]
  }
 ],
 "metadata": {
  "kernelspec": {
   "display_name": "Python 3",
   "language": "python",
   "name": "python3"
  },
  "language_info": {
   "codemirror_mode": {
    "name": "ipython",
    "version": 3
   },
   "file_extension": ".py",
   "mimetype": "text/x-python",
   "name": "python",
   "nbconvert_exporter": "python",
   "pygments_lexer": "ipython3",
   "version": "3.6.6"
  }
 },
 "nbformat": 4,
 "nbformat_minor": 2
}
